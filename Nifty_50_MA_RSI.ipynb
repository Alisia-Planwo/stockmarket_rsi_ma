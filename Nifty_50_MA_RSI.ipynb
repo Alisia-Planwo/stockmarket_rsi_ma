{
 "cells": [
  {
   "cell_type": "code",
   "execution_count": 10,
   "id": "ae587925-5dd0-4ccf-95bc-00d41fa20b28",
   "metadata": {},
   "outputs": [],
   "source": [
    "from pyotp import TOTP\n",
    "import os\n",
    "import time\n",
    "from kiteconnect import KiteConnect \n",
    "from selenium import webdriver\n",
    "import pandas as pd\n",
    "from selenium.webdriver.chrome.service import Service\n",
    "from webdriver_manager.chrome import ChromeDriverManager\n",
    "\n",
    "\n",
    "\n",
    "token_path=\"access_key.rtf\"\n",
    "api_secrets=open(token_path,'r').read().split()\n",
    "api_key=api_secrets[-3].replace('\\\\','')\n",
    "api_secret=api_secrets[-2].replace('\\\\','')\n",
    "user_name=api_secrets[-5].replace('\\\\','')\n",
    "password=api_secrets[-4].replace('\\\\','')\n",
    "totp=api_secrets[-6].replace('\\\\','')\n",
    "kite=KiteConnect(api_key)\n",
    "\n",
    "def auto_login():\n",
    "    # Set up the service with the ChromeDriverManager\n",
    "    service = Service(ChromeDriverManager().install())\n",
    "    driver = webdriver.Chrome(service=service)\n",
    "    driver.get(kite.login_url())\n",
    "    driver.implicitly_wait(10)\n",
    "    username=driver.find_element('xpath','/html/body/div[1]/div/div[2]/div[1]/div/div/div[2]/form/div[1]/input')\n",
    "    password_f=driver.find_element('xpath','/html/body/div[1]/div/div[2]/div[1]/div/div/div[2]/form/div[2]/input')\n",
    "    username.send_keys(user_name)\n",
    "    password_f.send_keys(password)\n",
    "    driver.find_element('xpath','/html/body/div[1]/div/div[2]/div[1]/div/div/div[2]/form/div[4]/button').click()\n",
    "    time.sleep(5)\n",
    "    pin=driver.find_element('xpath','/html/body/div[1]/div/div[2]/div[1]/div/div/div[2]/form/div[1]/input')\n",
    "    token_t=TOTP(totp)\n",
    "    code=token_t.now()\n",
    "    pin.send_keys(code)\n",
    "    time.sleep(10)\n",
    "    request_token=driver.current_url.split(\"request_token=\")[-1]\n",
    "    with open('request_token.txt','w') as f:\n",
    "        f.write(request_token)\n",
    "    driver.quit()"
   ]
  },
  {
   "cell_type": "code",
   "execution_count": 11,
   "id": "b4ba5fa2-cb12-46b6-80e4-20463a3b69fe",
   "metadata": {},
   "outputs": [],
   "source": [
    "auto_login()\n",
    "request_tokens=open('request_token.txt','r').read().split('&')[0]\n",
    "data = kite.generate_session(request_tokens,api_secret)\n"
   ]
  },
  {
   "cell_type": "code",
   "execution_count": 12,
   "id": "77551983-a63a-48fb-9bb2-bc32fd01bdf7",
   "metadata": {},
   "outputs": [],
   "source": [
    "instrument_dump=kite.instruments(\"NSE\")\n",
    "instrument_df=pd.DataFrame(instrument_dump)"
   ]
  },
  {
   "cell_type": "code",
   "execution_count": 13,
   "id": "77544b01-56b9-410e-8a34-95d04415ec59",
   "metadata": {},
   "outputs": [
    {
     "data": {
      "text/html": [
       "<div>\n",
       "<style scoped>\n",
       "    .dataframe tbody tr th:only-of-type {\n",
       "        vertical-align: middle;\n",
       "    }\n",
       "\n",
       "    .dataframe tbody tr th {\n",
       "        vertical-align: top;\n",
       "    }\n",
       "\n",
       "    .dataframe thead th {\n",
       "        text-align: right;\n",
       "    }\n",
       "</style>\n",
       "<table border=\"1\" class=\"dataframe\">\n",
       "  <thead>\n",
       "    <tr style=\"text-align: right;\">\n",
       "      <th></th>\n",
       "      <th>instrument_token</th>\n",
       "      <th>exchange_token</th>\n",
       "      <th>tradingsymbol</th>\n",
       "      <th>name</th>\n",
       "      <th>last_price</th>\n",
       "      <th>expiry</th>\n",
       "      <th>strike</th>\n",
       "      <th>tick_size</th>\n",
       "      <th>lot_size</th>\n",
       "      <th>instrument_type</th>\n",
       "      <th>segment</th>\n",
       "      <th>exchange</th>\n",
       "    </tr>\n",
       "  </thead>\n",
       "  <tbody>\n",
       "    <tr>\n",
       "      <th>0</th>\n",
       "      <td>256265</td>\n",
       "      <td>1001</td>\n",
       "      <td>NIFTY 50</td>\n",
       "      <td>NIFTY 50</td>\n",
       "      <td>0.0</td>\n",
       "      <td></td>\n",
       "      <td>0.0</td>\n",
       "      <td>0.00</td>\n",
       "      <td>0</td>\n",
       "      <td>EQ</td>\n",
       "      <td>INDICES</td>\n",
       "      <td>NSE</td>\n",
       "    </tr>\n",
       "    <tr>\n",
       "      <th>1</th>\n",
       "      <td>256777</td>\n",
       "      <td>1003</td>\n",
       "      <td>NIFTY MIDCAP 100</td>\n",
       "      <td>NIFTY MIDCAP 100</td>\n",
       "      <td>0.0</td>\n",
       "      <td></td>\n",
       "      <td>0.0</td>\n",
       "      <td>0.00</td>\n",
       "      <td>0</td>\n",
       "      <td>EQ</td>\n",
       "      <td>INDICES</td>\n",
       "      <td>NSE</td>\n",
       "    </tr>\n",
       "    <tr>\n",
       "      <th>2</th>\n",
       "      <td>260105</td>\n",
       "      <td>1016</td>\n",
       "      <td>NIFTY BANK</td>\n",
       "      <td>NIFTY BANK</td>\n",
       "      <td>0.0</td>\n",
       "      <td></td>\n",
       "      <td>0.0</td>\n",
       "      <td>0.00</td>\n",
       "      <td>0</td>\n",
       "      <td>EQ</td>\n",
       "      <td>INDICES</td>\n",
       "      <td>NSE</td>\n",
       "    </tr>\n",
       "    <tr>\n",
       "      <th>3</th>\n",
       "      <td>260617</td>\n",
       "      <td>1018</td>\n",
       "      <td>NIFTY 100</td>\n",
       "      <td>NIFTY 100</td>\n",
       "      <td>0.0</td>\n",
       "      <td></td>\n",
       "      <td>0.0</td>\n",
       "      <td>0.00</td>\n",
       "      <td>0</td>\n",
       "      <td>EQ</td>\n",
       "      <td>INDICES</td>\n",
       "      <td>NSE</td>\n",
       "    </tr>\n",
       "    <tr>\n",
       "      <th>4</th>\n",
       "      <td>257033</td>\n",
       "      <td>1004</td>\n",
       "      <td>NIFTY DIV OPPS 50</td>\n",
       "      <td>NIFTY DIV OPPS 50</td>\n",
       "      <td>0.0</td>\n",
       "      <td></td>\n",
       "      <td>0.0</td>\n",
       "      <td>0.00</td>\n",
       "      <td>0</td>\n",
       "      <td>EQ</td>\n",
       "      <td>INDICES</td>\n",
       "      <td>NSE</td>\n",
       "    </tr>\n",
       "    <tr>\n",
       "      <th>...</th>\n",
       "      <td>...</td>\n",
       "      <td>...</td>\n",
       "      <td>...</td>\n",
       "      <td>...</td>\n",
       "      <td>...</td>\n",
       "      <td>...</td>\n",
       "      <td>...</td>\n",
       "      <td>...</td>\n",
       "      <td>...</td>\n",
       "      <td>...</td>\n",
       "      <td>...</td>\n",
       "      <td>...</td>\n",
       "    </tr>\n",
       "    <tr>\n",
       "      <th>7250</th>\n",
       "      <td>8150273</td>\n",
       "      <td>31837</td>\n",
       "      <td>SREEL</td>\n",
       "      <td>SREELEATHERS</td>\n",
       "      <td>0.0</td>\n",
       "      <td></td>\n",
       "      <td>0.0</td>\n",
       "      <td>0.01</td>\n",
       "      <td>1</td>\n",
       "      <td>EQ</td>\n",
       "      <td>NSE</td>\n",
       "      <td>NSE</td>\n",
       "    </tr>\n",
       "    <tr>\n",
       "      <th>7251</th>\n",
       "      <td>8183297</td>\n",
       "      <td>31966</td>\n",
       "      <td>863NHB29-N2</td>\n",
       "      <td></td>\n",
       "      <td>0.0</td>\n",
       "      <td></td>\n",
       "      <td>0.0</td>\n",
       "      <td>0.01</td>\n",
       "      <td>1</td>\n",
       "      <td>EQ</td>\n",
       "      <td>NSE</td>\n",
       "      <td>NSE</td>\n",
       "    </tr>\n",
       "    <tr>\n",
       "      <th>7252</th>\n",
       "      <td>8183553</td>\n",
       "      <td>31967</td>\n",
       "      <td>863NHB34-N3</td>\n",
       "      <td></td>\n",
       "      <td>0.0</td>\n",
       "      <td></td>\n",
       "      <td>0.0</td>\n",
       "      <td>0.01</td>\n",
       "      <td>1</td>\n",
       "      <td>EQ</td>\n",
       "      <td>NSE</td>\n",
       "      <td>NSE</td>\n",
       "    </tr>\n",
       "    <tr>\n",
       "      <th>7253</th>\n",
       "      <td>8184065</td>\n",
       "      <td>31969</td>\n",
       "      <td>888NHB29-N5</td>\n",
       "      <td></td>\n",
       "      <td>0.0</td>\n",
       "      <td></td>\n",
       "      <td>0.0</td>\n",
       "      <td>0.01</td>\n",
       "      <td>1</td>\n",
       "      <td>EQ</td>\n",
       "      <td>NSE</td>\n",
       "      <td>NSE</td>\n",
       "    </tr>\n",
       "    <tr>\n",
       "      <th>7254</th>\n",
       "      <td>8184321</td>\n",
       "      <td>31970</td>\n",
       "      <td>901NHB34-N6</td>\n",
       "      <td></td>\n",
       "      <td>0.0</td>\n",
       "      <td></td>\n",
       "      <td>0.0</td>\n",
       "      <td>0.01</td>\n",
       "      <td>1</td>\n",
       "      <td>EQ</td>\n",
       "      <td>NSE</td>\n",
       "      <td>NSE</td>\n",
       "    </tr>\n",
       "  </tbody>\n",
       "</table>\n",
       "<p>7255 rows × 12 columns</p>\n",
       "</div>"
      ],
      "text/plain": [
       "      instrument_token exchange_token      tradingsymbol               name   \n",
       "0               256265           1001           NIFTY 50           NIFTY 50  \\\n",
       "1               256777           1003   NIFTY MIDCAP 100   NIFTY MIDCAP 100   \n",
       "2               260105           1016         NIFTY BANK         NIFTY BANK   \n",
       "3               260617           1018          NIFTY 100          NIFTY 100   \n",
       "4               257033           1004  NIFTY DIV OPPS 50  NIFTY DIV OPPS 50   \n",
       "...                ...            ...                ...                ...   \n",
       "7250           8150273          31837              SREEL       SREELEATHERS   \n",
       "7251           8183297          31966        863NHB29-N2                      \n",
       "7252           8183553          31967        863NHB34-N3                      \n",
       "7253           8184065          31969        888NHB29-N5                      \n",
       "7254           8184321          31970        901NHB34-N6                      \n",
       "\n",
       "      last_price expiry  strike  tick_size  lot_size instrument_type  segment   \n",
       "0            0.0            0.0       0.00         0              EQ  INDICES  \\\n",
       "1            0.0            0.0       0.00         0              EQ  INDICES   \n",
       "2            0.0            0.0       0.00         0              EQ  INDICES   \n",
       "3            0.0            0.0       0.00         0              EQ  INDICES   \n",
       "4            0.0            0.0       0.00         0              EQ  INDICES   \n",
       "...          ...    ...     ...        ...       ...             ...      ...   \n",
       "7250         0.0            0.0       0.01         1              EQ      NSE   \n",
       "7251         0.0            0.0       0.01         1              EQ      NSE   \n",
       "7252         0.0            0.0       0.01         1              EQ      NSE   \n",
       "7253         0.0            0.0       0.01         1              EQ      NSE   \n",
       "7254         0.0            0.0       0.01         1              EQ      NSE   \n",
       "\n",
       "     exchange  \n",
       "0         NSE  \n",
       "1         NSE  \n",
       "2         NSE  \n",
       "3         NSE  \n",
       "4         NSE  \n",
       "...       ...  \n",
       "7250      NSE  \n",
       "7251      NSE  \n",
       "7252      NSE  \n",
       "7253      NSE  \n",
       "7254      NSE  \n",
       "\n",
       "[7255 rows x 12 columns]"
      ]
     },
     "execution_count": 13,
     "metadata": {},
     "output_type": "execute_result"
    }
   ],
   "source": [
    "instrument_df"
   ]
  },
  {
   "cell_type": "code",
   "execution_count": 14,
   "id": "3b8cf61e-a36f-42c3-937d-97f76cabbec1",
   "metadata": {},
   "outputs": [],
   "source": [
    "nifty_50_companies = [\"Asian Paints\",\"Britannia Industries\",\"Cipla\",\"Eicher Motors\",\"Nestle India\",\n",
    "                      \"Grasim Industries\",\"Hero MotoCorp\",\"Hindalco Industries\",\"Hindustan Unilever\",\n",
    "                      \"ITC\",\"Trent\",\"Larsen & Tourbo\",\"Mahindra & Mahindra\",\"Reliance Industries\",\n",
    "                      \"Tata Consumer Product\",\"Tata Motors\",\"Tata Steel\",\"Wipro\",\"Apollo Hospitals Enterprise\",\n",
    "                      \"Dr. Reddy s Laboratories\",\"Titan Company\",\"State Bank of India\",\"Shriram Finance\",\n",
    "                      \"Bharat Petroleum Corporation\",\"Bharat Electronics\",\"Kotak Mahindra Bank\",\"Infosys\",\"Bajaj Finance\",\n",
    "                      \"Adani Enterprises\",\"Sun Pharmaceutical Industries\",\"JSW Steel\",\"HDFC Bank\",\"Tata Consultancy Services\",\n",
    "                      \"ICICI Bank\",\"Power Grid Corporation of India\",\"Maruti Suzuki India\",\"IndusInd Bank\",\"Axis Bank\",\n",
    "                      \"HCL Technologies\",\"Oil and Natural Gas Corp\",\"NTPC\",\"Coal India\",\"Bharti Airtel\",\"Tech Mahindra\",\n",
    "                      \"Adani Port & Special Economic Zone\",\"HDFC Life Insurance Company\",\"SBI Life Insurance Company\",\n",
    "                      \"UltraTech Cement \",\"Bajaj Auto\",\"Bajaj Finserv\"]"
   ]
  },
  {
   "cell_type": "code",
   "execution_count": 15,
   "id": "25fc5cdc-a40c-4944-bf3f-c6e63514a071",
   "metadata": {},
   "outputs": [],
   "source": [
    "import pandas as pd\n",
    "\n",
    "\n",
    "trading_symbols_list = []\n",
    "instrument_tokens_list = []\n",
    "companies_with_symbols = []\n",
    "\n",
    "\n",
    "for company in nifty_50_companies:\n",
    "    \n",
    "    first_part = company.split()[0].strip()\n",
    "    first_two_parts = \" \".join(company.split()[:2]).strip()\n",
    "    full_name = company.strip()\n",
    "\n",
    "    \n",
    "    first_match = instrument_df[instrument_df['name'].str.contains(first_part, case=False, na=False)]\n",
    "    if len(first_match) == 1:\n",
    "        trading_symbols_list.append(first_match['tradingsymbol'].iloc[0])\n",
    "        instrument_tokens_list.append(first_match['instrument_token'].iloc[0])\n",
    "        companies_with_symbols.append(company)\n",
    "        continue\n",
    "\n",
    "    \n",
    "    first_two_match = instrument_df[instrument_df['name'].str.contains(first_two_parts, case=False, na=False)]\n",
    "    if len(first_two_match) == 1:\n",
    "        trading_symbols_list.append(first_two_match['tradingsymbol'].iloc[0])\n",
    "        instrument_tokens_list.append(first_two_match['instrument_token'].iloc[0])\n",
    "        companies_with_symbols.append(company)\n",
    "        continue\n",
    "\n",
    "    \n",
    "    full_match = instrument_df[instrument_df['name'].str.contains(full_name, case=False, na=False)]\n",
    "    if len(full_match) > 1:\n",
    "        \n",
    "        trading_symbols_list.append(full_match['tradingsymbol'].iloc[0])\n",
    "        instrument_tokens_list.append(full_match['instrument_token'].iloc[0])\n",
    "        companies_with_symbols.append(company)\n",
    "        continue\n",
    "        \n",
    "    elif len(full_match) == 1:\n",
    "        trading_symbols_list.append(full_match['tradingsymbol'].iloc[0])\n",
    "        instrument_tokens_list.append(full_match['instrument_token'].iloc[0])\n",
    "        companies_with_symbols.append(company)\n",
    "        continue\n",
    "\n",
    "\n",
    "    trading_symbols_list.append(None)\n",
    "    instrument_tokens_list.append(None)\n",
    "    companies_with_symbols.append(company)\n",
    "\n",
    "\n",
    "result_df = pd.DataFrame({\n",
    "    'Company': companies_with_symbols,\n",
    "    'Instrument Token': instrument_tokens_list,\n",
    "    'Trading Symbol': trading_symbols_list\n",
    "})\n",
    "\n",
    "\n"
   ]
  },
  {
   "cell_type": "code",
   "execution_count": 16,
   "id": "b2e41549-1062-4c82-b934-f1c908b95bf7",
   "metadata": {},
   "outputs": [
    {
     "data": {
      "text/html": [
       "<div>\n",
       "<style scoped>\n",
       "    .dataframe tbody tr th:only-of-type {\n",
       "        vertical-align: middle;\n",
       "    }\n",
       "\n",
       "    .dataframe tbody tr th {\n",
       "        vertical-align: top;\n",
       "    }\n",
       "\n",
       "    .dataframe thead th {\n",
       "        text-align: right;\n",
       "    }\n",
       "</style>\n",
       "<table border=\"1\" class=\"dataframe\">\n",
       "  <thead>\n",
       "    <tr style=\"text-align: right;\">\n",
       "      <th></th>\n",
       "      <th>Company</th>\n",
       "      <th>Instrument Token</th>\n",
       "      <th>Trading Symbol</th>\n",
       "    </tr>\n",
       "  </thead>\n",
       "  <tbody>\n",
       "    <tr>\n",
       "      <th>0</th>\n",
       "      <td>Asian Paints</td>\n",
       "      <td>60417</td>\n",
       "      <td>ASIANPAINT</td>\n",
       "    </tr>\n",
       "    <tr>\n",
       "      <th>1</th>\n",
       "      <td>Britannia Industries</td>\n",
       "      <td>140033</td>\n",
       "      <td>BRITANNIA</td>\n",
       "    </tr>\n",
       "    <tr>\n",
       "      <th>2</th>\n",
       "      <td>Cipla</td>\n",
       "      <td>177665</td>\n",
       "      <td>CIPLA</td>\n",
       "    </tr>\n",
       "    <tr>\n",
       "      <th>3</th>\n",
       "      <td>Eicher Motors</td>\n",
       "      <td>232961</td>\n",
       "      <td>EICHERMOT</td>\n",
       "    </tr>\n",
       "    <tr>\n",
       "      <th>4</th>\n",
       "      <td>Nestle India</td>\n",
       "      <td>4598529</td>\n",
       "      <td>NESTLEIND</td>\n",
       "    </tr>\n",
       "    <tr>\n",
       "      <th>5</th>\n",
       "      <td>Grasim Industries</td>\n",
       "      <td>315393</td>\n",
       "      <td>GRASIM</td>\n",
       "    </tr>\n",
       "    <tr>\n",
       "      <th>6</th>\n",
       "      <td>Hero MotoCorp</td>\n",
       "      <td>345089</td>\n",
       "      <td>HEROMOTOCO</td>\n",
       "    </tr>\n",
       "    <tr>\n",
       "      <th>7</th>\n",
       "      <td>Hindalco Industries</td>\n",
       "      <td>348929</td>\n",
       "      <td>HINDALCO</td>\n",
       "    </tr>\n",
       "    <tr>\n",
       "      <th>8</th>\n",
       "      <td>Hindustan Unilever</td>\n",
       "      <td>356865</td>\n",
       "      <td>HINDUNILVR</td>\n",
       "    </tr>\n",
       "    <tr>\n",
       "      <th>9</th>\n",
       "      <td>ITC</td>\n",
       "      <td>424961</td>\n",
       "      <td>ITC</td>\n",
       "    </tr>\n",
       "    <tr>\n",
       "      <th>10</th>\n",
       "      <td>Trent</td>\n",
       "      <td>502785</td>\n",
       "      <td>TRENT</td>\n",
       "    </tr>\n",
       "    <tr>\n",
       "      <th>11</th>\n",
       "      <td>Larsen &amp; Tourbo</td>\n",
       "      <td>2939649</td>\n",
       "      <td>LT</td>\n",
       "    </tr>\n",
       "    <tr>\n",
       "      <th>12</th>\n",
       "      <td>Mahindra &amp; Mahindra</td>\n",
       "      <td>519937</td>\n",
       "      <td>M&amp;M</td>\n",
       "    </tr>\n",
       "    <tr>\n",
       "      <th>13</th>\n",
       "      <td>Reliance Industries</td>\n",
       "      <td>738561</td>\n",
       "      <td>RELIANCE</td>\n",
       "    </tr>\n",
       "    <tr>\n",
       "      <th>14</th>\n",
       "      <td>Tata Consumer Product</td>\n",
       "      <td>878593</td>\n",
       "      <td>TATACONSUM</td>\n",
       "    </tr>\n",
       "    <tr>\n",
       "      <th>15</th>\n",
       "      <td>Tata Motors</td>\n",
       "      <td>884737</td>\n",
       "      <td>TATAMOTORS</td>\n",
       "    </tr>\n",
       "    <tr>\n",
       "      <th>16</th>\n",
       "      <td>Tata Steel</td>\n",
       "      <td>895745</td>\n",
       "      <td>TATASTEEL</td>\n",
       "    </tr>\n",
       "    <tr>\n",
       "      <th>17</th>\n",
       "      <td>Wipro</td>\n",
       "      <td>969473</td>\n",
       "      <td>WIPRO</td>\n",
       "    </tr>\n",
       "    <tr>\n",
       "      <th>18</th>\n",
       "      <td>Apollo Hospitals Enterprise</td>\n",
       "      <td>40193</td>\n",
       "      <td>APOLLOHOSP</td>\n",
       "    </tr>\n",
       "    <tr>\n",
       "      <th>19</th>\n",
       "      <td>Dr. Reddy s Laboratories</td>\n",
       "      <td>225537</td>\n",
       "      <td>DRREDDY</td>\n",
       "    </tr>\n",
       "    <tr>\n",
       "      <th>20</th>\n",
       "      <td>Titan Company</td>\n",
       "      <td>897537</td>\n",
       "      <td>TITAN</td>\n",
       "    </tr>\n",
       "    <tr>\n",
       "      <th>21</th>\n",
       "      <td>State Bank of India</td>\n",
       "      <td>779521</td>\n",
       "      <td>SBIN</td>\n",
       "    </tr>\n",
       "    <tr>\n",
       "      <th>22</th>\n",
       "      <td>Shriram Finance</td>\n",
       "      <td>1102337</td>\n",
       "      <td>SHRIRAMFIN</td>\n",
       "    </tr>\n",
       "    <tr>\n",
       "      <th>23</th>\n",
       "      <td>Bharat Petroleum Corporation</td>\n",
       "      <td>134657</td>\n",
       "      <td>BPCL</td>\n",
       "    </tr>\n",
       "    <tr>\n",
       "      <th>24</th>\n",
       "      <td>Bharat Electronics</td>\n",
       "      <td>98049</td>\n",
       "      <td>BEL</td>\n",
       "    </tr>\n",
       "    <tr>\n",
       "      <th>25</th>\n",
       "      <td>Kotak Mahindra Bank</td>\n",
       "      <td>492033</td>\n",
       "      <td>KOTAKBANK</td>\n",
       "    </tr>\n",
       "    <tr>\n",
       "      <th>26</th>\n",
       "      <td>Infosys</td>\n",
       "      <td>408065</td>\n",
       "      <td>INFY</td>\n",
       "    </tr>\n",
       "    <tr>\n",
       "      <th>27</th>\n",
       "      <td>Bajaj Finance</td>\n",
       "      <td>81153</td>\n",
       "      <td>BAJFINANCE</td>\n",
       "    </tr>\n",
       "    <tr>\n",
       "      <th>28</th>\n",
       "      <td>Adani Enterprises</td>\n",
       "      <td>6401</td>\n",
       "      <td>ADANIENT</td>\n",
       "    </tr>\n",
       "    <tr>\n",
       "      <th>29</th>\n",
       "      <td>Sun Pharmaceutical Industries</td>\n",
       "      <td>857857</td>\n",
       "      <td>SUNPHARMA</td>\n",
       "    </tr>\n",
       "    <tr>\n",
       "      <th>30</th>\n",
       "      <td>JSW Steel</td>\n",
       "      <td>3001089</td>\n",
       "      <td>JSWSTEEL</td>\n",
       "    </tr>\n",
       "    <tr>\n",
       "      <th>31</th>\n",
       "      <td>HDFC Bank</td>\n",
       "      <td>341249</td>\n",
       "      <td>HDFCBANK</td>\n",
       "    </tr>\n",
       "    <tr>\n",
       "      <th>32</th>\n",
       "      <td>Tata Consultancy Services</td>\n",
       "      <td>2953217</td>\n",
       "      <td>TCS</td>\n",
       "    </tr>\n",
       "    <tr>\n",
       "      <th>33</th>\n",
       "      <td>ICICI Bank</td>\n",
       "      <td>1270529</td>\n",
       "      <td>ICICIBANK</td>\n",
       "    </tr>\n",
       "    <tr>\n",
       "      <th>34</th>\n",
       "      <td>Power Grid Corporation of India</td>\n",
       "      <td>3834113</td>\n",
       "      <td>POWERGRID</td>\n",
       "    </tr>\n",
       "    <tr>\n",
       "      <th>35</th>\n",
       "      <td>Maruti Suzuki India</td>\n",
       "      <td>2815745</td>\n",
       "      <td>MARUTI</td>\n",
       "    </tr>\n",
       "    <tr>\n",
       "      <th>36</th>\n",
       "      <td>IndusInd Bank</td>\n",
       "      <td>1346049</td>\n",
       "      <td>INDUSINDBK</td>\n",
       "    </tr>\n",
       "    <tr>\n",
       "      <th>37</th>\n",
       "      <td>Axis Bank</td>\n",
       "      <td>1510401</td>\n",
       "      <td>AXISBANK</td>\n",
       "    </tr>\n",
       "    <tr>\n",
       "      <th>38</th>\n",
       "      <td>HCL Technologies</td>\n",
       "      <td>1850625</td>\n",
       "      <td>HCLTECH</td>\n",
       "    </tr>\n",
       "    <tr>\n",
       "      <th>39</th>\n",
       "      <td>Oil and Natural Gas Corp</td>\n",
       "      <td>633601</td>\n",
       "      <td>ONGC</td>\n",
       "    </tr>\n",
       "    <tr>\n",
       "      <th>40</th>\n",
       "      <td>NTPC</td>\n",
       "      <td>2977281</td>\n",
       "      <td>NTPC</td>\n",
       "    </tr>\n",
       "    <tr>\n",
       "      <th>41</th>\n",
       "      <td>Coal India</td>\n",
       "      <td>5215745</td>\n",
       "      <td>COALINDIA</td>\n",
       "    </tr>\n",
       "    <tr>\n",
       "      <th>42</th>\n",
       "      <td>Bharti Airtel</td>\n",
       "      <td>2714625</td>\n",
       "      <td>BHARTIARTL</td>\n",
       "    </tr>\n",
       "    <tr>\n",
       "      <th>43</th>\n",
       "      <td>Tech Mahindra</td>\n",
       "      <td>3465729</td>\n",
       "      <td>TECHM</td>\n",
       "    </tr>\n",
       "    <tr>\n",
       "      <th>44</th>\n",
       "      <td>Adani Port &amp; Special Economic Zone</td>\n",
       "      <td>3861249</td>\n",
       "      <td>ADANIPORTS</td>\n",
       "    </tr>\n",
       "    <tr>\n",
       "      <th>45</th>\n",
       "      <td>HDFC Life Insurance Company</td>\n",
       "      <td>119553</td>\n",
       "      <td>HDFCLIFE</td>\n",
       "    </tr>\n",
       "    <tr>\n",
       "      <th>46</th>\n",
       "      <td>SBI Life Insurance Company</td>\n",
       "      <td>5582849</td>\n",
       "      <td>SBILIFE</td>\n",
       "    </tr>\n",
       "    <tr>\n",
       "      <th>47</th>\n",
       "      <td>UltraTech Cement</td>\n",
       "      <td>2952193</td>\n",
       "      <td>ULTRACEMCO</td>\n",
       "    </tr>\n",
       "    <tr>\n",
       "      <th>48</th>\n",
       "      <td>Bajaj Auto</td>\n",
       "      <td>4267265</td>\n",
       "      <td>BAJAJ-AUTO</td>\n",
       "    </tr>\n",
       "    <tr>\n",
       "      <th>49</th>\n",
       "      <td>Bajaj Finserv</td>\n",
       "      <td>4268801</td>\n",
       "      <td>BAJAJFINSV</td>\n",
       "    </tr>\n",
       "  </tbody>\n",
       "</table>\n",
       "</div>"
      ],
      "text/plain": [
       "                               Company  Instrument Token Trading Symbol\n",
       "0                         Asian Paints             60417     ASIANPAINT\n",
       "1                 Britannia Industries            140033      BRITANNIA\n",
       "2                                Cipla            177665          CIPLA\n",
       "3                        Eicher Motors            232961      EICHERMOT\n",
       "4                         Nestle India           4598529      NESTLEIND\n",
       "5                    Grasim Industries            315393         GRASIM\n",
       "6                        Hero MotoCorp            345089     HEROMOTOCO\n",
       "7                  Hindalco Industries            348929       HINDALCO\n",
       "8                   Hindustan Unilever            356865     HINDUNILVR\n",
       "9                                  ITC            424961            ITC\n",
       "10                               Trent            502785          TRENT\n",
       "11                     Larsen & Tourbo           2939649             LT\n",
       "12                 Mahindra & Mahindra            519937            M&M\n",
       "13                 Reliance Industries            738561       RELIANCE\n",
       "14               Tata Consumer Product            878593     TATACONSUM\n",
       "15                         Tata Motors            884737     TATAMOTORS\n",
       "16                          Tata Steel            895745      TATASTEEL\n",
       "17                               Wipro            969473          WIPRO\n",
       "18         Apollo Hospitals Enterprise             40193     APOLLOHOSP\n",
       "19            Dr. Reddy s Laboratories            225537        DRREDDY\n",
       "20                       Titan Company            897537          TITAN\n",
       "21                 State Bank of India            779521           SBIN\n",
       "22                     Shriram Finance           1102337     SHRIRAMFIN\n",
       "23        Bharat Petroleum Corporation            134657           BPCL\n",
       "24                  Bharat Electronics             98049            BEL\n",
       "25                 Kotak Mahindra Bank            492033      KOTAKBANK\n",
       "26                             Infosys            408065           INFY\n",
       "27                       Bajaj Finance             81153     BAJFINANCE\n",
       "28                   Adani Enterprises              6401       ADANIENT\n",
       "29       Sun Pharmaceutical Industries            857857      SUNPHARMA\n",
       "30                           JSW Steel           3001089       JSWSTEEL\n",
       "31                           HDFC Bank            341249       HDFCBANK\n",
       "32           Tata Consultancy Services           2953217            TCS\n",
       "33                          ICICI Bank           1270529      ICICIBANK\n",
       "34     Power Grid Corporation of India           3834113      POWERGRID\n",
       "35                 Maruti Suzuki India           2815745         MARUTI\n",
       "36                       IndusInd Bank           1346049     INDUSINDBK\n",
       "37                           Axis Bank           1510401       AXISBANK\n",
       "38                    HCL Technologies           1850625        HCLTECH\n",
       "39            Oil and Natural Gas Corp            633601           ONGC\n",
       "40                                NTPC           2977281           NTPC\n",
       "41                          Coal India           5215745      COALINDIA\n",
       "42                       Bharti Airtel           2714625     BHARTIARTL\n",
       "43                       Tech Mahindra           3465729          TECHM\n",
       "44  Adani Port & Special Economic Zone           3861249     ADANIPORTS\n",
       "45         HDFC Life Insurance Company            119553       HDFCLIFE\n",
       "46          SBI Life Insurance Company           5582849        SBILIFE\n",
       "47                   UltraTech Cement            2952193     ULTRACEMCO\n",
       "48                          Bajaj Auto           4267265     BAJAJ-AUTO\n",
       "49                       Bajaj Finserv           4268801     BAJAJFINSV"
      ]
     },
     "execution_count": 16,
     "metadata": {},
     "output_type": "execute_result"
    }
   ],
   "source": [
    "result_df"
   ]
  },
  {
   "cell_type": "code",
   "execution_count": 17,
   "id": "5ef6125a-c7b9-4b16-9ca5-c4d081c06be9",
   "metadata": {},
   "outputs": [
    {
     "data": {
      "text/plain": [
       "50"
      ]
     },
     "execution_count": 17,
     "metadata": {},
     "output_type": "execute_result"
    }
   ],
   "source": [
    "len(trading_symbols_list)"
   ]
  },
  {
   "cell_type": "code",
   "execution_count": 18,
   "id": "d0057057-1cf0-48c1-931f-666a36758ffe",
   "metadata": {},
   "outputs": [
    {
     "name": "stdout",
     "output_type": "stream",
     "text": [
      "Fetching 15minute data for Asian Paints...\n",
      "Fetching 30minute data for Asian Paints...\n",
      "Fetching 60minute data for Asian Paints...\n"
     ]
    },
    {
     "name": "stderr",
     "output_type": "stream",
     "text": [
      "C:\\Users\\Alisia Phini\\AppData\\Local\\Temp\\ipykernel_11472\\4159473243.py:68: UserWarning: Converting to PeriodArray/Index representation will drop timezone information.\n",
      "  df['Date'] = pd.to_datetime(df['date']).dt.to_period('W').dt.start_time\n",
      "C:\\Users\\Alisia Phini\\AppData\\Local\\Temp\\ipykernel_11472\\4159473243.py:77: UserWarning: Converting to PeriodArray/Index representation will drop timezone information.\n",
      "  df['Date'] = pd.to_datetime(df['date']).dt.to_period('M').dt.start_time\n"
     ]
    },
    {
     "name": "stdout",
     "output_type": "stream",
     "text": [
      "15minute data with MA and RSI uploaded successfully for Asian Paints to s3://planwo-stockmarket-pred-rsi-ma/Historical data/Nifty50/Asian Paints/15minute.csv\n",
      "30minute data with MA and RSI uploaded successfully for Asian Paints to s3://planwo-stockmarket-pred-rsi-ma/Historical data/Nifty50/Asian Paints/30minute.csv\n",
      "60minute data with MA and RSI uploaded successfully for Asian Paints to s3://planwo-stockmarket-pred-rsi-ma/Historical data/Nifty50/Asian Paints/60minute.csv\n",
      "1day data with MA and RSI uploaded successfully for Asian Paints to s3://planwo-stockmarket-pred-rsi-ma/Historical data/Nifty50/Asian Paints/1day.csv\n",
      "1week data with MA and RSI uploaded successfully for Asian Paints to s3://planwo-stockmarket-pred-rsi-ma/Historical data/Nifty50/Asian Paints/1week.csv\n",
      "1month data with MA and RSI uploaded successfully for Asian Paints to s3://planwo-stockmarket-pred-rsi-ma/Historical data/Nifty50/Asian Paints/1month.csv\n",
      "Fetching 15minute data for Britannia Industries...\n",
      "Fetching 30minute data for Britannia Industries...\n",
      "Fetching 60minute data for Britannia Industries...\n"
     ]
    },
    {
     "name": "stderr",
     "output_type": "stream",
     "text": [
      "C:\\Users\\Alisia Phini\\AppData\\Local\\Temp\\ipykernel_11472\\4159473243.py:68: UserWarning: Converting to PeriodArray/Index representation will drop timezone information.\n",
      "  df['Date'] = pd.to_datetime(df['date']).dt.to_period('W').dt.start_time\n",
      "C:\\Users\\Alisia Phini\\AppData\\Local\\Temp\\ipykernel_11472\\4159473243.py:77: UserWarning: Converting to PeriodArray/Index representation will drop timezone information.\n",
      "  df['Date'] = pd.to_datetime(df['date']).dt.to_period('M').dt.start_time\n"
     ]
    },
    {
     "name": "stdout",
     "output_type": "stream",
     "text": [
      "15minute data with MA and RSI uploaded successfully for Britannia Industries to s3://planwo-stockmarket-pred-rsi-ma/Historical data/Nifty50/Britannia Industries/15minute.csv\n",
      "30minute data with MA and RSI uploaded successfully for Britannia Industries to s3://planwo-stockmarket-pred-rsi-ma/Historical data/Nifty50/Britannia Industries/30minute.csv\n",
      "60minute data with MA and RSI uploaded successfully for Britannia Industries to s3://planwo-stockmarket-pred-rsi-ma/Historical data/Nifty50/Britannia Industries/60minute.csv\n",
      "1day data with MA and RSI uploaded successfully for Britannia Industries to s3://planwo-stockmarket-pred-rsi-ma/Historical data/Nifty50/Britannia Industries/1day.csv\n",
      "1week data with MA and RSI uploaded successfully for Britannia Industries to s3://planwo-stockmarket-pred-rsi-ma/Historical data/Nifty50/Britannia Industries/1week.csv\n",
      "1month data with MA and RSI uploaded successfully for Britannia Industries to s3://planwo-stockmarket-pred-rsi-ma/Historical data/Nifty50/Britannia Industries/1month.csv\n",
      "Fetching 15minute data for Cipla...\n",
      "Fetching 30minute data for Cipla...\n",
      "Fetching 60minute data for Cipla...\n"
     ]
    },
    {
     "name": "stderr",
     "output_type": "stream",
     "text": [
      "C:\\Users\\Alisia Phini\\AppData\\Local\\Temp\\ipykernel_11472\\4159473243.py:68: UserWarning: Converting to PeriodArray/Index representation will drop timezone information.\n",
      "  df['Date'] = pd.to_datetime(df['date']).dt.to_period('W').dt.start_time\n",
      "C:\\Users\\Alisia Phini\\AppData\\Local\\Temp\\ipykernel_11472\\4159473243.py:77: UserWarning: Converting to PeriodArray/Index representation will drop timezone information.\n",
      "  df['Date'] = pd.to_datetime(df['date']).dt.to_period('M').dt.start_time\n"
     ]
    },
    {
     "name": "stdout",
     "output_type": "stream",
     "text": [
      "15minute data with MA and RSI uploaded successfully for Cipla to s3://planwo-stockmarket-pred-rsi-ma/Historical data/Nifty50/Cipla/15minute.csv\n",
      "30minute data with MA and RSI uploaded successfully for Cipla to s3://planwo-stockmarket-pred-rsi-ma/Historical data/Nifty50/Cipla/30minute.csv\n",
      "60minute data with MA and RSI uploaded successfully for Cipla to s3://planwo-stockmarket-pred-rsi-ma/Historical data/Nifty50/Cipla/60minute.csv\n",
      "1day data with MA and RSI uploaded successfully for Cipla to s3://planwo-stockmarket-pred-rsi-ma/Historical data/Nifty50/Cipla/1day.csv\n",
      "1week data with MA and RSI uploaded successfully for Cipla to s3://planwo-stockmarket-pred-rsi-ma/Historical data/Nifty50/Cipla/1week.csv\n",
      "1month data with MA and RSI uploaded successfully for Cipla to s3://planwo-stockmarket-pred-rsi-ma/Historical data/Nifty50/Cipla/1month.csv\n",
      "Fetching 15minute data for Eicher Motors...\n",
      "Fetching 30minute data for Eicher Motors...\n",
      "Fetching 60minute data for Eicher Motors...\n"
     ]
    },
    {
     "name": "stderr",
     "output_type": "stream",
     "text": [
      "C:\\Users\\Alisia Phini\\AppData\\Local\\Temp\\ipykernel_11472\\4159473243.py:68: UserWarning: Converting to PeriodArray/Index representation will drop timezone information.\n",
      "  df['Date'] = pd.to_datetime(df['date']).dt.to_period('W').dt.start_time\n",
      "C:\\Users\\Alisia Phini\\AppData\\Local\\Temp\\ipykernel_11472\\4159473243.py:77: UserWarning: Converting to PeriodArray/Index representation will drop timezone information.\n",
      "  df['Date'] = pd.to_datetime(df['date']).dt.to_period('M').dt.start_time\n"
     ]
    },
    {
     "name": "stdout",
     "output_type": "stream",
     "text": [
      "15minute data with MA and RSI uploaded successfully for Eicher Motors to s3://planwo-stockmarket-pred-rsi-ma/Historical data/Nifty50/Eicher Motors/15minute.csv\n",
      "30minute data with MA and RSI uploaded successfully for Eicher Motors to s3://planwo-stockmarket-pred-rsi-ma/Historical data/Nifty50/Eicher Motors/30minute.csv\n",
      "60minute data with MA and RSI uploaded successfully for Eicher Motors to s3://planwo-stockmarket-pred-rsi-ma/Historical data/Nifty50/Eicher Motors/60minute.csv\n",
      "1day data with MA and RSI uploaded successfully for Eicher Motors to s3://planwo-stockmarket-pred-rsi-ma/Historical data/Nifty50/Eicher Motors/1day.csv\n",
      "1week data with MA and RSI uploaded successfully for Eicher Motors to s3://planwo-stockmarket-pred-rsi-ma/Historical data/Nifty50/Eicher Motors/1week.csv\n",
      "1month data with MA and RSI uploaded successfully for Eicher Motors to s3://planwo-stockmarket-pred-rsi-ma/Historical data/Nifty50/Eicher Motors/1month.csv\n",
      "Fetching 15minute data for Nestle India...\n",
      "Fetching 30minute data for Nestle India...\n",
      "Fetching 60minute data for Nestle India...\n"
     ]
    },
    {
     "name": "stderr",
     "output_type": "stream",
     "text": [
      "C:\\Users\\Alisia Phini\\AppData\\Local\\Temp\\ipykernel_11472\\4159473243.py:68: UserWarning: Converting to PeriodArray/Index representation will drop timezone information.\n",
      "  df['Date'] = pd.to_datetime(df['date']).dt.to_period('W').dt.start_time\n",
      "C:\\Users\\Alisia Phini\\AppData\\Local\\Temp\\ipykernel_11472\\4159473243.py:77: UserWarning: Converting to PeriodArray/Index representation will drop timezone information.\n",
      "  df['Date'] = pd.to_datetime(df['date']).dt.to_period('M').dt.start_time\n"
     ]
    },
    {
     "name": "stdout",
     "output_type": "stream",
     "text": [
      "15minute data with MA and RSI uploaded successfully for Nestle India to s3://planwo-stockmarket-pred-rsi-ma/Historical data/Nifty50/Nestle India/15minute.csv\n",
      "30minute data with MA and RSI uploaded successfully for Nestle India to s3://planwo-stockmarket-pred-rsi-ma/Historical data/Nifty50/Nestle India/30minute.csv\n",
      "60minute data with MA and RSI uploaded successfully for Nestle India to s3://planwo-stockmarket-pred-rsi-ma/Historical data/Nifty50/Nestle India/60minute.csv\n",
      "1day data with MA and RSI uploaded successfully for Nestle India to s3://planwo-stockmarket-pred-rsi-ma/Historical data/Nifty50/Nestle India/1day.csv\n",
      "1week data with MA and RSI uploaded successfully for Nestle India to s3://planwo-stockmarket-pred-rsi-ma/Historical data/Nifty50/Nestle India/1week.csv\n",
      "1month data with MA and RSI uploaded successfully for Nestle India to s3://planwo-stockmarket-pred-rsi-ma/Historical data/Nifty50/Nestle India/1month.csv\n",
      "Fetching 15minute data for Grasim Industries...\n",
      "Fetching 30minute data for Grasim Industries...\n",
      "Fetching 60minute data for Grasim Industries...\n"
     ]
    },
    {
     "name": "stderr",
     "output_type": "stream",
     "text": [
      "C:\\Users\\Alisia Phini\\AppData\\Local\\Temp\\ipykernel_11472\\4159473243.py:68: UserWarning: Converting to PeriodArray/Index representation will drop timezone information.\n",
      "  df['Date'] = pd.to_datetime(df['date']).dt.to_period('W').dt.start_time\n",
      "C:\\Users\\Alisia Phini\\AppData\\Local\\Temp\\ipykernel_11472\\4159473243.py:77: UserWarning: Converting to PeriodArray/Index representation will drop timezone information.\n",
      "  df['Date'] = pd.to_datetime(df['date']).dt.to_period('M').dt.start_time\n"
     ]
    },
    {
     "name": "stdout",
     "output_type": "stream",
     "text": [
      "15minute data with MA and RSI uploaded successfully for Grasim Industries to s3://planwo-stockmarket-pred-rsi-ma/Historical data/Nifty50/Grasim Industries/15minute.csv\n",
      "30minute data with MA and RSI uploaded successfully for Grasim Industries to s3://planwo-stockmarket-pred-rsi-ma/Historical data/Nifty50/Grasim Industries/30minute.csv\n",
      "60minute data with MA and RSI uploaded successfully for Grasim Industries to s3://planwo-stockmarket-pred-rsi-ma/Historical data/Nifty50/Grasim Industries/60minute.csv\n",
      "1day data with MA and RSI uploaded successfully for Grasim Industries to s3://planwo-stockmarket-pred-rsi-ma/Historical data/Nifty50/Grasim Industries/1day.csv\n",
      "1week data with MA and RSI uploaded successfully for Grasim Industries to s3://planwo-stockmarket-pred-rsi-ma/Historical data/Nifty50/Grasim Industries/1week.csv\n",
      "1month data with MA and RSI uploaded successfully for Grasim Industries to s3://planwo-stockmarket-pred-rsi-ma/Historical data/Nifty50/Grasim Industries/1month.csv\n",
      "Fetching 15minute data for Hero MotoCorp...\n",
      "Fetching 30minute data for Hero MotoCorp...\n",
      "Fetching 60minute data for Hero MotoCorp...\n"
     ]
    },
    {
     "name": "stderr",
     "output_type": "stream",
     "text": [
      "C:\\Users\\Alisia Phini\\AppData\\Local\\Temp\\ipykernel_11472\\4159473243.py:68: UserWarning: Converting to PeriodArray/Index representation will drop timezone information.\n",
      "  df['Date'] = pd.to_datetime(df['date']).dt.to_period('W').dt.start_time\n",
      "C:\\Users\\Alisia Phini\\AppData\\Local\\Temp\\ipykernel_11472\\4159473243.py:77: UserWarning: Converting to PeriodArray/Index representation will drop timezone information.\n",
      "  df['Date'] = pd.to_datetime(df['date']).dt.to_period('M').dt.start_time\n"
     ]
    },
    {
     "name": "stdout",
     "output_type": "stream",
     "text": [
      "15minute data with MA and RSI uploaded successfully for Hero MotoCorp to s3://planwo-stockmarket-pred-rsi-ma/Historical data/Nifty50/Hero MotoCorp/15minute.csv\n",
      "30minute data with MA and RSI uploaded successfully for Hero MotoCorp to s3://planwo-stockmarket-pred-rsi-ma/Historical data/Nifty50/Hero MotoCorp/30minute.csv\n",
      "60minute data with MA and RSI uploaded successfully for Hero MotoCorp to s3://planwo-stockmarket-pred-rsi-ma/Historical data/Nifty50/Hero MotoCorp/60minute.csv\n",
      "1day data with MA and RSI uploaded successfully for Hero MotoCorp to s3://planwo-stockmarket-pred-rsi-ma/Historical data/Nifty50/Hero MotoCorp/1day.csv\n",
      "1week data with MA and RSI uploaded successfully for Hero MotoCorp to s3://planwo-stockmarket-pred-rsi-ma/Historical data/Nifty50/Hero MotoCorp/1week.csv\n",
      "1month data with MA and RSI uploaded successfully for Hero MotoCorp to s3://planwo-stockmarket-pred-rsi-ma/Historical data/Nifty50/Hero MotoCorp/1month.csv\n",
      "Fetching 15minute data for Hindalco Industries...\n",
      "Fetching 30minute data for Hindalco Industries...\n",
      "Fetching 60minute data for Hindalco Industries...\n"
     ]
    },
    {
     "name": "stderr",
     "output_type": "stream",
     "text": [
      "C:\\Users\\Alisia Phini\\AppData\\Local\\Temp\\ipykernel_11472\\4159473243.py:68: UserWarning: Converting to PeriodArray/Index representation will drop timezone information.\n",
      "  df['Date'] = pd.to_datetime(df['date']).dt.to_period('W').dt.start_time\n",
      "C:\\Users\\Alisia Phini\\AppData\\Local\\Temp\\ipykernel_11472\\4159473243.py:77: UserWarning: Converting to PeriodArray/Index representation will drop timezone information.\n",
      "  df['Date'] = pd.to_datetime(df['date']).dt.to_period('M').dt.start_time\n"
     ]
    },
    {
     "name": "stdout",
     "output_type": "stream",
     "text": [
      "15minute data with MA and RSI uploaded successfully for Hindalco Industries to s3://planwo-stockmarket-pred-rsi-ma/Historical data/Nifty50/Hindalco Industries/15minute.csv\n",
      "30minute data with MA and RSI uploaded successfully for Hindalco Industries to s3://planwo-stockmarket-pred-rsi-ma/Historical data/Nifty50/Hindalco Industries/30minute.csv\n",
      "60minute data with MA and RSI uploaded successfully for Hindalco Industries to s3://planwo-stockmarket-pred-rsi-ma/Historical data/Nifty50/Hindalco Industries/60minute.csv\n",
      "1day data with MA and RSI uploaded successfully for Hindalco Industries to s3://planwo-stockmarket-pred-rsi-ma/Historical data/Nifty50/Hindalco Industries/1day.csv\n",
      "1week data with MA and RSI uploaded successfully for Hindalco Industries to s3://planwo-stockmarket-pred-rsi-ma/Historical data/Nifty50/Hindalco Industries/1week.csv\n",
      "1month data with MA and RSI uploaded successfully for Hindalco Industries to s3://planwo-stockmarket-pred-rsi-ma/Historical data/Nifty50/Hindalco Industries/1month.csv\n",
      "Fetching 15minute data for Hindustan Unilever...\n",
      "Fetching 30minute data for Hindustan Unilever...\n",
      "Fetching 60minute data for Hindustan Unilever...\n"
     ]
    },
    {
     "name": "stderr",
     "output_type": "stream",
     "text": [
      "C:\\Users\\Alisia Phini\\AppData\\Local\\Temp\\ipykernel_11472\\4159473243.py:68: UserWarning: Converting to PeriodArray/Index representation will drop timezone information.\n",
      "  df['Date'] = pd.to_datetime(df['date']).dt.to_period('W').dt.start_time\n",
      "C:\\Users\\Alisia Phini\\AppData\\Local\\Temp\\ipykernel_11472\\4159473243.py:77: UserWarning: Converting to PeriodArray/Index representation will drop timezone information.\n",
      "  df['Date'] = pd.to_datetime(df['date']).dt.to_period('M').dt.start_time\n"
     ]
    },
    {
     "name": "stdout",
     "output_type": "stream",
     "text": [
      "15minute data with MA and RSI uploaded successfully for Hindustan Unilever to s3://planwo-stockmarket-pred-rsi-ma/Historical data/Nifty50/Hindustan Unilever/15minute.csv\n",
      "30minute data with MA and RSI uploaded successfully for Hindustan Unilever to s3://planwo-stockmarket-pred-rsi-ma/Historical data/Nifty50/Hindustan Unilever/30minute.csv\n",
      "60minute data with MA and RSI uploaded successfully for Hindustan Unilever to s3://planwo-stockmarket-pred-rsi-ma/Historical data/Nifty50/Hindustan Unilever/60minute.csv\n",
      "1day data with MA and RSI uploaded successfully for Hindustan Unilever to s3://planwo-stockmarket-pred-rsi-ma/Historical data/Nifty50/Hindustan Unilever/1day.csv\n",
      "1week data with MA and RSI uploaded successfully for Hindustan Unilever to s3://planwo-stockmarket-pred-rsi-ma/Historical data/Nifty50/Hindustan Unilever/1week.csv\n",
      "1month data with MA and RSI uploaded successfully for Hindustan Unilever to s3://planwo-stockmarket-pred-rsi-ma/Historical data/Nifty50/Hindustan Unilever/1month.csv\n",
      "Fetching 15minute data for ITC...\n",
      "Fetching 30minute data for ITC...\n",
      "Fetching 60minute data for ITC...\n"
     ]
    },
    {
     "name": "stderr",
     "output_type": "stream",
     "text": [
      "C:\\Users\\Alisia Phini\\AppData\\Local\\Temp\\ipykernel_11472\\4159473243.py:68: UserWarning: Converting to PeriodArray/Index representation will drop timezone information.\n",
      "  df['Date'] = pd.to_datetime(df['date']).dt.to_period('W').dt.start_time\n",
      "C:\\Users\\Alisia Phini\\AppData\\Local\\Temp\\ipykernel_11472\\4159473243.py:77: UserWarning: Converting to PeriodArray/Index representation will drop timezone information.\n",
      "  df['Date'] = pd.to_datetime(df['date']).dt.to_period('M').dt.start_time\n"
     ]
    },
    {
     "name": "stdout",
     "output_type": "stream",
     "text": [
      "15minute data with MA and RSI uploaded successfully for ITC to s3://planwo-stockmarket-pred-rsi-ma/Historical data/Nifty50/ITC/15minute.csv\n",
      "30minute data with MA and RSI uploaded successfully for ITC to s3://planwo-stockmarket-pred-rsi-ma/Historical data/Nifty50/ITC/30minute.csv\n",
      "60minute data with MA and RSI uploaded successfully for ITC to s3://planwo-stockmarket-pred-rsi-ma/Historical data/Nifty50/ITC/60minute.csv\n",
      "1day data with MA and RSI uploaded successfully for ITC to s3://planwo-stockmarket-pred-rsi-ma/Historical data/Nifty50/ITC/1day.csv\n",
      "1week data with MA and RSI uploaded successfully for ITC to s3://planwo-stockmarket-pred-rsi-ma/Historical data/Nifty50/ITC/1week.csv\n",
      "1month data with MA and RSI uploaded successfully for ITC to s3://planwo-stockmarket-pred-rsi-ma/Historical data/Nifty50/ITC/1month.csv\n",
      "Fetching 15minute data for Trent...\n",
      "Fetching 30minute data for Trent...\n",
      "Fetching 60minute data for Trent...\n"
     ]
    },
    {
     "name": "stderr",
     "output_type": "stream",
     "text": [
      "C:\\Users\\Alisia Phini\\AppData\\Local\\Temp\\ipykernel_11472\\4159473243.py:68: UserWarning: Converting to PeriodArray/Index representation will drop timezone information.\n",
      "  df['Date'] = pd.to_datetime(df['date']).dt.to_period('W').dt.start_time\n",
      "C:\\Users\\Alisia Phini\\AppData\\Local\\Temp\\ipykernel_11472\\4159473243.py:77: UserWarning: Converting to PeriodArray/Index representation will drop timezone information.\n",
      "  df['Date'] = pd.to_datetime(df['date']).dt.to_period('M').dt.start_time\n"
     ]
    },
    {
     "name": "stdout",
     "output_type": "stream",
     "text": [
      "15minute data with MA and RSI uploaded successfully for Trent to s3://planwo-stockmarket-pred-rsi-ma/Historical data/Nifty50/Trent/15minute.csv\n",
      "30minute data with MA and RSI uploaded successfully for Trent to s3://planwo-stockmarket-pred-rsi-ma/Historical data/Nifty50/Trent/30minute.csv\n",
      "60minute data with MA and RSI uploaded successfully for Trent to s3://planwo-stockmarket-pred-rsi-ma/Historical data/Nifty50/Trent/60minute.csv\n",
      "1day data with MA and RSI uploaded successfully for Trent to s3://planwo-stockmarket-pred-rsi-ma/Historical data/Nifty50/Trent/1day.csv\n",
      "1week data with MA and RSI uploaded successfully for Trent to s3://planwo-stockmarket-pred-rsi-ma/Historical data/Nifty50/Trent/1week.csv\n",
      "1month data with MA and RSI uploaded successfully for Trent to s3://planwo-stockmarket-pred-rsi-ma/Historical data/Nifty50/Trent/1month.csv\n",
      "Fetching 15minute data for Larsen & Tourbo...\n",
      "Fetching 30minute data for Larsen & Tourbo...\n",
      "Fetching 60minute data for Larsen & Tourbo...\n"
     ]
    },
    {
     "name": "stderr",
     "output_type": "stream",
     "text": [
      "C:\\Users\\Alisia Phini\\AppData\\Local\\Temp\\ipykernel_11472\\4159473243.py:68: UserWarning: Converting to PeriodArray/Index representation will drop timezone information.\n",
      "  df['Date'] = pd.to_datetime(df['date']).dt.to_period('W').dt.start_time\n",
      "C:\\Users\\Alisia Phini\\AppData\\Local\\Temp\\ipykernel_11472\\4159473243.py:77: UserWarning: Converting to PeriodArray/Index representation will drop timezone information.\n",
      "  df['Date'] = pd.to_datetime(df['date']).dt.to_period('M').dt.start_time\n"
     ]
    },
    {
     "name": "stdout",
     "output_type": "stream",
     "text": [
      "15minute data with MA and RSI uploaded successfully for Larsen & Tourbo to s3://planwo-stockmarket-pred-rsi-ma/Historical data/Nifty50/Larsen & Tourbo/15minute.csv\n",
      "30minute data with MA and RSI uploaded successfully for Larsen & Tourbo to s3://planwo-stockmarket-pred-rsi-ma/Historical data/Nifty50/Larsen & Tourbo/30minute.csv\n",
      "60minute data with MA and RSI uploaded successfully for Larsen & Tourbo to s3://planwo-stockmarket-pred-rsi-ma/Historical data/Nifty50/Larsen & Tourbo/60minute.csv\n",
      "1day data with MA and RSI uploaded successfully for Larsen & Tourbo to s3://planwo-stockmarket-pred-rsi-ma/Historical data/Nifty50/Larsen & Tourbo/1day.csv\n",
      "1week data with MA and RSI uploaded successfully for Larsen & Tourbo to s3://planwo-stockmarket-pred-rsi-ma/Historical data/Nifty50/Larsen & Tourbo/1week.csv\n",
      "1month data with MA and RSI uploaded successfully for Larsen & Tourbo to s3://planwo-stockmarket-pred-rsi-ma/Historical data/Nifty50/Larsen & Tourbo/1month.csv\n",
      "Fetching 15minute data for Mahindra & Mahindra...\n",
      "Fetching 30minute data for Mahindra & Mahindra...\n",
      "Fetching 60minute data for Mahindra & Mahindra...\n"
     ]
    },
    {
     "name": "stderr",
     "output_type": "stream",
     "text": [
      "C:\\Users\\Alisia Phini\\AppData\\Local\\Temp\\ipykernel_11472\\4159473243.py:68: UserWarning: Converting to PeriodArray/Index representation will drop timezone information.\n",
      "  df['Date'] = pd.to_datetime(df['date']).dt.to_period('W').dt.start_time\n",
      "C:\\Users\\Alisia Phini\\AppData\\Local\\Temp\\ipykernel_11472\\4159473243.py:77: UserWarning: Converting to PeriodArray/Index representation will drop timezone information.\n",
      "  df['Date'] = pd.to_datetime(df['date']).dt.to_period('M').dt.start_time\n"
     ]
    },
    {
     "name": "stdout",
     "output_type": "stream",
     "text": [
      "15minute data with MA and RSI uploaded successfully for Mahindra & Mahindra to s3://planwo-stockmarket-pred-rsi-ma/Historical data/Nifty50/Mahindra & Mahindra/15minute.csv\n",
      "30minute data with MA and RSI uploaded successfully for Mahindra & Mahindra to s3://planwo-stockmarket-pred-rsi-ma/Historical data/Nifty50/Mahindra & Mahindra/30minute.csv\n",
      "60minute data with MA and RSI uploaded successfully for Mahindra & Mahindra to s3://planwo-stockmarket-pred-rsi-ma/Historical data/Nifty50/Mahindra & Mahindra/60minute.csv\n",
      "1day data with MA and RSI uploaded successfully for Mahindra & Mahindra to s3://planwo-stockmarket-pred-rsi-ma/Historical data/Nifty50/Mahindra & Mahindra/1day.csv\n",
      "1week data with MA and RSI uploaded successfully for Mahindra & Mahindra to s3://planwo-stockmarket-pred-rsi-ma/Historical data/Nifty50/Mahindra & Mahindra/1week.csv\n",
      "1month data with MA and RSI uploaded successfully for Mahindra & Mahindra to s3://planwo-stockmarket-pred-rsi-ma/Historical data/Nifty50/Mahindra & Mahindra/1month.csv\n",
      "Fetching 15minute data for Reliance Industries...\n",
      "Fetching 30minute data for Reliance Industries...\n",
      "Fetching 60minute data for Reliance Industries...\n"
     ]
    },
    {
     "name": "stderr",
     "output_type": "stream",
     "text": [
      "C:\\Users\\Alisia Phini\\AppData\\Local\\Temp\\ipykernel_11472\\4159473243.py:68: UserWarning: Converting to PeriodArray/Index representation will drop timezone information.\n",
      "  df['Date'] = pd.to_datetime(df['date']).dt.to_period('W').dt.start_time\n",
      "C:\\Users\\Alisia Phini\\AppData\\Local\\Temp\\ipykernel_11472\\4159473243.py:77: UserWarning: Converting to PeriodArray/Index representation will drop timezone information.\n",
      "  df['Date'] = pd.to_datetime(df['date']).dt.to_period('M').dt.start_time\n"
     ]
    },
    {
     "name": "stdout",
     "output_type": "stream",
     "text": [
      "15minute data with MA and RSI uploaded successfully for Reliance Industries to s3://planwo-stockmarket-pred-rsi-ma/Historical data/Nifty50/Reliance Industries/15minute.csv\n",
      "30minute data with MA and RSI uploaded successfully for Reliance Industries to s3://planwo-stockmarket-pred-rsi-ma/Historical data/Nifty50/Reliance Industries/30minute.csv\n",
      "60minute data with MA and RSI uploaded successfully for Reliance Industries to s3://planwo-stockmarket-pred-rsi-ma/Historical data/Nifty50/Reliance Industries/60minute.csv\n",
      "1day data with MA and RSI uploaded successfully for Reliance Industries to s3://planwo-stockmarket-pred-rsi-ma/Historical data/Nifty50/Reliance Industries/1day.csv\n",
      "1week data with MA and RSI uploaded successfully for Reliance Industries to s3://planwo-stockmarket-pred-rsi-ma/Historical data/Nifty50/Reliance Industries/1week.csv\n",
      "1month data with MA and RSI uploaded successfully for Reliance Industries to s3://planwo-stockmarket-pred-rsi-ma/Historical data/Nifty50/Reliance Industries/1month.csv\n",
      "Fetching 15minute data for Tata Consumer Product...\n",
      "Fetching 30minute data for Tata Consumer Product...\n",
      "Fetching 60minute data for Tata Consumer Product...\n"
     ]
    },
    {
     "name": "stderr",
     "output_type": "stream",
     "text": [
      "C:\\Users\\Alisia Phini\\AppData\\Local\\Temp\\ipykernel_11472\\4159473243.py:68: UserWarning: Converting to PeriodArray/Index representation will drop timezone information.\n",
      "  df['Date'] = pd.to_datetime(df['date']).dt.to_period('W').dt.start_time\n",
      "C:\\Users\\Alisia Phini\\AppData\\Local\\Temp\\ipykernel_11472\\4159473243.py:77: UserWarning: Converting to PeriodArray/Index representation will drop timezone information.\n",
      "  df['Date'] = pd.to_datetime(df['date']).dt.to_period('M').dt.start_time\n"
     ]
    },
    {
     "name": "stdout",
     "output_type": "stream",
     "text": [
      "15minute data with MA and RSI uploaded successfully for Tata Consumer Product to s3://planwo-stockmarket-pred-rsi-ma/Historical data/Nifty50/Tata Consumer Product/15minute.csv\n",
      "30minute data with MA and RSI uploaded successfully for Tata Consumer Product to s3://planwo-stockmarket-pred-rsi-ma/Historical data/Nifty50/Tata Consumer Product/30minute.csv\n",
      "60minute data with MA and RSI uploaded successfully for Tata Consumer Product to s3://planwo-stockmarket-pred-rsi-ma/Historical data/Nifty50/Tata Consumer Product/60minute.csv\n",
      "1day data with MA and RSI uploaded successfully for Tata Consumer Product to s3://planwo-stockmarket-pred-rsi-ma/Historical data/Nifty50/Tata Consumer Product/1day.csv\n",
      "1week data with MA and RSI uploaded successfully for Tata Consumer Product to s3://planwo-stockmarket-pred-rsi-ma/Historical data/Nifty50/Tata Consumer Product/1week.csv\n",
      "1month data with MA and RSI uploaded successfully for Tata Consumer Product to s3://planwo-stockmarket-pred-rsi-ma/Historical data/Nifty50/Tata Consumer Product/1month.csv\n",
      "Fetching 15minute data for Tata Motors...\n",
      "Fetching 30minute data for Tata Motors...\n",
      "Fetching 60minute data for Tata Motors...\n"
     ]
    },
    {
     "name": "stderr",
     "output_type": "stream",
     "text": [
      "C:\\Users\\Alisia Phini\\AppData\\Local\\Temp\\ipykernel_11472\\4159473243.py:68: UserWarning: Converting to PeriodArray/Index representation will drop timezone information.\n",
      "  df['Date'] = pd.to_datetime(df['date']).dt.to_period('W').dt.start_time\n",
      "C:\\Users\\Alisia Phini\\AppData\\Local\\Temp\\ipykernel_11472\\4159473243.py:77: UserWarning: Converting to PeriodArray/Index representation will drop timezone information.\n",
      "  df['Date'] = pd.to_datetime(df['date']).dt.to_period('M').dt.start_time\n"
     ]
    },
    {
     "name": "stdout",
     "output_type": "stream",
     "text": [
      "15minute data with MA and RSI uploaded successfully for Tata Motors to s3://planwo-stockmarket-pred-rsi-ma/Historical data/Nifty50/Tata Motors/15minute.csv\n",
      "30minute data with MA and RSI uploaded successfully for Tata Motors to s3://planwo-stockmarket-pred-rsi-ma/Historical data/Nifty50/Tata Motors/30minute.csv\n",
      "60minute data with MA and RSI uploaded successfully for Tata Motors to s3://planwo-stockmarket-pred-rsi-ma/Historical data/Nifty50/Tata Motors/60minute.csv\n",
      "1day data with MA and RSI uploaded successfully for Tata Motors to s3://planwo-stockmarket-pred-rsi-ma/Historical data/Nifty50/Tata Motors/1day.csv\n",
      "1week data with MA and RSI uploaded successfully for Tata Motors to s3://planwo-stockmarket-pred-rsi-ma/Historical data/Nifty50/Tata Motors/1week.csv\n",
      "1month data with MA and RSI uploaded successfully for Tata Motors to s3://planwo-stockmarket-pred-rsi-ma/Historical data/Nifty50/Tata Motors/1month.csv\n",
      "Fetching 15minute data for Tata Steel...\n",
      "Fetching 30minute data for Tata Steel...\n",
      "Fetching 60minute data for Tata Steel...\n"
     ]
    },
    {
     "name": "stderr",
     "output_type": "stream",
     "text": [
      "C:\\Users\\Alisia Phini\\AppData\\Local\\Temp\\ipykernel_11472\\4159473243.py:68: UserWarning: Converting to PeriodArray/Index representation will drop timezone information.\n",
      "  df['Date'] = pd.to_datetime(df['date']).dt.to_period('W').dt.start_time\n",
      "C:\\Users\\Alisia Phini\\AppData\\Local\\Temp\\ipykernel_11472\\4159473243.py:77: UserWarning: Converting to PeriodArray/Index representation will drop timezone information.\n",
      "  df['Date'] = pd.to_datetime(df['date']).dt.to_period('M').dt.start_time\n"
     ]
    },
    {
     "name": "stdout",
     "output_type": "stream",
     "text": [
      "15minute data with MA and RSI uploaded successfully for Tata Steel to s3://planwo-stockmarket-pred-rsi-ma/Historical data/Nifty50/Tata Steel/15minute.csv\n",
      "30minute data with MA and RSI uploaded successfully for Tata Steel to s3://planwo-stockmarket-pred-rsi-ma/Historical data/Nifty50/Tata Steel/30minute.csv\n",
      "60minute data with MA and RSI uploaded successfully for Tata Steel to s3://planwo-stockmarket-pred-rsi-ma/Historical data/Nifty50/Tata Steel/60minute.csv\n",
      "1day data with MA and RSI uploaded successfully for Tata Steel to s3://planwo-stockmarket-pred-rsi-ma/Historical data/Nifty50/Tata Steel/1day.csv\n",
      "1week data with MA and RSI uploaded successfully for Tata Steel to s3://planwo-stockmarket-pred-rsi-ma/Historical data/Nifty50/Tata Steel/1week.csv\n",
      "1month data with MA and RSI uploaded successfully for Tata Steel to s3://planwo-stockmarket-pred-rsi-ma/Historical data/Nifty50/Tata Steel/1month.csv\n",
      "Fetching 15minute data for Wipro...\n",
      "Fetching 30minute data for Wipro...\n",
      "Fetching 60minute data for Wipro...\n"
     ]
    },
    {
     "name": "stderr",
     "output_type": "stream",
     "text": [
      "C:\\Users\\Alisia Phini\\AppData\\Local\\Temp\\ipykernel_11472\\4159473243.py:68: UserWarning: Converting to PeriodArray/Index representation will drop timezone information.\n",
      "  df['Date'] = pd.to_datetime(df['date']).dt.to_period('W').dt.start_time\n",
      "C:\\Users\\Alisia Phini\\AppData\\Local\\Temp\\ipykernel_11472\\4159473243.py:77: UserWarning: Converting to PeriodArray/Index representation will drop timezone information.\n",
      "  df['Date'] = pd.to_datetime(df['date']).dt.to_period('M').dt.start_time\n"
     ]
    },
    {
     "name": "stdout",
     "output_type": "stream",
     "text": [
      "15minute data with MA and RSI uploaded successfully for Wipro to s3://planwo-stockmarket-pred-rsi-ma/Historical data/Nifty50/Wipro/15minute.csv\n",
      "30minute data with MA and RSI uploaded successfully for Wipro to s3://planwo-stockmarket-pred-rsi-ma/Historical data/Nifty50/Wipro/30minute.csv\n",
      "60minute data with MA and RSI uploaded successfully for Wipro to s3://planwo-stockmarket-pred-rsi-ma/Historical data/Nifty50/Wipro/60minute.csv\n",
      "1day data with MA and RSI uploaded successfully for Wipro to s3://planwo-stockmarket-pred-rsi-ma/Historical data/Nifty50/Wipro/1day.csv\n",
      "1week data with MA and RSI uploaded successfully for Wipro to s3://planwo-stockmarket-pred-rsi-ma/Historical data/Nifty50/Wipro/1week.csv\n",
      "1month data with MA and RSI uploaded successfully for Wipro to s3://planwo-stockmarket-pred-rsi-ma/Historical data/Nifty50/Wipro/1month.csv\n",
      "Fetching 15minute data for Apollo Hospitals Enterprise...\n",
      "Fetching 30minute data for Apollo Hospitals Enterprise...\n",
      "Fetching 60minute data for Apollo Hospitals Enterprise...\n"
     ]
    },
    {
     "name": "stderr",
     "output_type": "stream",
     "text": [
      "C:\\Users\\Alisia Phini\\AppData\\Local\\Temp\\ipykernel_11472\\4159473243.py:68: UserWarning: Converting to PeriodArray/Index representation will drop timezone information.\n",
      "  df['Date'] = pd.to_datetime(df['date']).dt.to_period('W').dt.start_time\n",
      "C:\\Users\\Alisia Phini\\AppData\\Local\\Temp\\ipykernel_11472\\4159473243.py:77: UserWarning: Converting to PeriodArray/Index representation will drop timezone information.\n",
      "  df['Date'] = pd.to_datetime(df['date']).dt.to_period('M').dt.start_time\n"
     ]
    },
    {
     "name": "stdout",
     "output_type": "stream",
     "text": [
      "15minute data with MA and RSI uploaded successfully for Apollo Hospitals Enterprise to s3://planwo-stockmarket-pred-rsi-ma/Historical data/Nifty50/Apollo Hospitals Enterprise/15minute.csv\n",
      "30minute data with MA and RSI uploaded successfully for Apollo Hospitals Enterprise to s3://planwo-stockmarket-pred-rsi-ma/Historical data/Nifty50/Apollo Hospitals Enterprise/30minute.csv\n",
      "60minute data with MA and RSI uploaded successfully for Apollo Hospitals Enterprise to s3://planwo-stockmarket-pred-rsi-ma/Historical data/Nifty50/Apollo Hospitals Enterprise/60minute.csv\n",
      "1day data with MA and RSI uploaded successfully for Apollo Hospitals Enterprise to s3://planwo-stockmarket-pred-rsi-ma/Historical data/Nifty50/Apollo Hospitals Enterprise/1day.csv\n",
      "1week data with MA and RSI uploaded successfully for Apollo Hospitals Enterprise to s3://planwo-stockmarket-pred-rsi-ma/Historical data/Nifty50/Apollo Hospitals Enterprise/1week.csv\n",
      "1month data with MA and RSI uploaded successfully for Apollo Hospitals Enterprise to s3://planwo-stockmarket-pred-rsi-ma/Historical data/Nifty50/Apollo Hospitals Enterprise/1month.csv\n",
      "Fetching 15minute data for Dr. Reddy s Laboratories...\n",
      "Fetching 30minute data for Dr. Reddy s Laboratories...\n",
      "Fetching 60minute data for Dr. Reddy s Laboratories...\n"
     ]
    },
    {
     "name": "stderr",
     "output_type": "stream",
     "text": [
      "C:\\Users\\Alisia Phini\\AppData\\Local\\Temp\\ipykernel_11472\\4159473243.py:68: UserWarning: Converting to PeriodArray/Index representation will drop timezone information.\n",
      "  df['Date'] = pd.to_datetime(df['date']).dt.to_period('W').dt.start_time\n",
      "C:\\Users\\Alisia Phini\\AppData\\Local\\Temp\\ipykernel_11472\\4159473243.py:77: UserWarning: Converting to PeriodArray/Index representation will drop timezone information.\n",
      "  df['Date'] = pd.to_datetime(df['date']).dt.to_period('M').dt.start_time\n"
     ]
    },
    {
     "name": "stdout",
     "output_type": "stream",
     "text": [
      "15minute data with MA and RSI uploaded successfully for Dr. Reddy s Laboratories to s3://planwo-stockmarket-pred-rsi-ma/Historical data/Nifty50/Dr. Reddy s Laboratories/15minute.csv\n",
      "30minute data with MA and RSI uploaded successfully for Dr. Reddy s Laboratories to s3://planwo-stockmarket-pred-rsi-ma/Historical data/Nifty50/Dr. Reddy s Laboratories/30minute.csv\n",
      "60minute data with MA and RSI uploaded successfully for Dr. Reddy s Laboratories to s3://planwo-stockmarket-pred-rsi-ma/Historical data/Nifty50/Dr. Reddy s Laboratories/60minute.csv\n",
      "1day data with MA and RSI uploaded successfully for Dr. Reddy s Laboratories to s3://planwo-stockmarket-pred-rsi-ma/Historical data/Nifty50/Dr. Reddy s Laboratories/1day.csv\n",
      "1week data with MA and RSI uploaded successfully for Dr. Reddy s Laboratories to s3://planwo-stockmarket-pred-rsi-ma/Historical data/Nifty50/Dr. Reddy s Laboratories/1week.csv\n",
      "1month data with MA and RSI uploaded successfully for Dr. Reddy s Laboratories to s3://planwo-stockmarket-pred-rsi-ma/Historical data/Nifty50/Dr. Reddy s Laboratories/1month.csv\n",
      "Fetching 15minute data for Titan Company...\n",
      "Fetching 30minute data for Titan Company...\n",
      "Fetching 60minute data for Titan Company...\n"
     ]
    },
    {
     "name": "stderr",
     "output_type": "stream",
     "text": [
      "C:\\Users\\Alisia Phini\\AppData\\Local\\Temp\\ipykernel_11472\\4159473243.py:68: UserWarning: Converting to PeriodArray/Index representation will drop timezone information.\n",
      "  df['Date'] = pd.to_datetime(df['date']).dt.to_period('W').dt.start_time\n",
      "C:\\Users\\Alisia Phini\\AppData\\Local\\Temp\\ipykernel_11472\\4159473243.py:77: UserWarning: Converting to PeriodArray/Index representation will drop timezone information.\n",
      "  df['Date'] = pd.to_datetime(df['date']).dt.to_period('M').dt.start_time\n"
     ]
    },
    {
     "name": "stdout",
     "output_type": "stream",
     "text": [
      "15minute data with MA and RSI uploaded successfully for Titan Company to s3://planwo-stockmarket-pred-rsi-ma/Historical data/Nifty50/Titan Company/15minute.csv\n",
      "30minute data with MA and RSI uploaded successfully for Titan Company to s3://planwo-stockmarket-pred-rsi-ma/Historical data/Nifty50/Titan Company/30minute.csv\n",
      "60minute data with MA and RSI uploaded successfully for Titan Company to s3://planwo-stockmarket-pred-rsi-ma/Historical data/Nifty50/Titan Company/60minute.csv\n",
      "1day data with MA and RSI uploaded successfully for Titan Company to s3://planwo-stockmarket-pred-rsi-ma/Historical data/Nifty50/Titan Company/1day.csv\n",
      "1week data with MA and RSI uploaded successfully for Titan Company to s3://planwo-stockmarket-pred-rsi-ma/Historical data/Nifty50/Titan Company/1week.csv\n",
      "1month data with MA and RSI uploaded successfully for Titan Company to s3://planwo-stockmarket-pred-rsi-ma/Historical data/Nifty50/Titan Company/1month.csv\n",
      "Fetching 15minute data for State Bank of India...\n",
      "Fetching 30minute data for State Bank of India...\n",
      "Fetching 60minute data for State Bank of India...\n"
     ]
    },
    {
     "name": "stderr",
     "output_type": "stream",
     "text": [
      "C:\\Users\\Alisia Phini\\AppData\\Local\\Temp\\ipykernel_11472\\4159473243.py:68: UserWarning: Converting to PeriodArray/Index representation will drop timezone information.\n",
      "  df['Date'] = pd.to_datetime(df['date']).dt.to_period('W').dt.start_time\n",
      "C:\\Users\\Alisia Phini\\AppData\\Local\\Temp\\ipykernel_11472\\4159473243.py:77: UserWarning: Converting to PeriodArray/Index representation will drop timezone information.\n",
      "  df['Date'] = pd.to_datetime(df['date']).dt.to_period('M').dt.start_time\n"
     ]
    },
    {
     "name": "stdout",
     "output_type": "stream",
     "text": [
      "15minute data with MA and RSI uploaded successfully for State Bank of India to s3://planwo-stockmarket-pred-rsi-ma/Historical data/Nifty50/State Bank of India/15minute.csv\n",
      "30minute data with MA and RSI uploaded successfully for State Bank of India to s3://planwo-stockmarket-pred-rsi-ma/Historical data/Nifty50/State Bank of India/30minute.csv\n",
      "60minute data with MA and RSI uploaded successfully for State Bank of India to s3://planwo-stockmarket-pred-rsi-ma/Historical data/Nifty50/State Bank of India/60minute.csv\n",
      "1day data with MA and RSI uploaded successfully for State Bank of India to s3://planwo-stockmarket-pred-rsi-ma/Historical data/Nifty50/State Bank of India/1day.csv\n",
      "1week data with MA and RSI uploaded successfully for State Bank of India to s3://planwo-stockmarket-pred-rsi-ma/Historical data/Nifty50/State Bank of India/1week.csv\n",
      "1month data with MA and RSI uploaded successfully for State Bank of India to s3://planwo-stockmarket-pred-rsi-ma/Historical data/Nifty50/State Bank of India/1month.csv\n",
      "Fetching 15minute data for Shriram Finance...\n",
      "Fetching 30minute data for Shriram Finance...\n",
      "Fetching 60minute data for Shriram Finance...\n"
     ]
    },
    {
     "name": "stderr",
     "output_type": "stream",
     "text": [
      "C:\\Users\\Alisia Phini\\AppData\\Local\\Temp\\ipykernel_11472\\4159473243.py:68: UserWarning: Converting to PeriodArray/Index representation will drop timezone information.\n",
      "  df['Date'] = pd.to_datetime(df['date']).dt.to_period('W').dt.start_time\n",
      "C:\\Users\\Alisia Phini\\AppData\\Local\\Temp\\ipykernel_11472\\4159473243.py:77: UserWarning: Converting to PeriodArray/Index representation will drop timezone information.\n",
      "  df['Date'] = pd.to_datetime(df['date']).dt.to_period('M').dt.start_time\n"
     ]
    },
    {
     "name": "stdout",
     "output_type": "stream",
     "text": [
      "15minute data with MA and RSI uploaded successfully for Shriram Finance to s3://planwo-stockmarket-pred-rsi-ma/Historical data/Nifty50/Shriram Finance/15minute.csv\n",
      "30minute data with MA and RSI uploaded successfully for Shriram Finance to s3://planwo-stockmarket-pred-rsi-ma/Historical data/Nifty50/Shriram Finance/30minute.csv\n",
      "60minute data with MA and RSI uploaded successfully for Shriram Finance to s3://planwo-stockmarket-pred-rsi-ma/Historical data/Nifty50/Shriram Finance/60minute.csv\n",
      "1day data with MA and RSI uploaded successfully for Shriram Finance to s3://planwo-stockmarket-pred-rsi-ma/Historical data/Nifty50/Shriram Finance/1day.csv\n",
      "1week data with MA and RSI uploaded successfully for Shriram Finance to s3://planwo-stockmarket-pred-rsi-ma/Historical data/Nifty50/Shriram Finance/1week.csv\n",
      "1month data with MA and RSI uploaded successfully for Shriram Finance to s3://planwo-stockmarket-pred-rsi-ma/Historical data/Nifty50/Shriram Finance/1month.csv\n",
      "Fetching 15minute data for Bharat Petroleum Corporation...\n",
      "Fetching 30minute data for Bharat Petroleum Corporation...\n",
      "Fetching 60minute data for Bharat Petroleum Corporation...\n"
     ]
    },
    {
     "name": "stderr",
     "output_type": "stream",
     "text": [
      "C:\\Users\\Alisia Phini\\AppData\\Local\\Temp\\ipykernel_11472\\4159473243.py:68: UserWarning: Converting to PeriodArray/Index representation will drop timezone information.\n",
      "  df['Date'] = pd.to_datetime(df['date']).dt.to_period('W').dt.start_time\n",
      "C:\\Users\\Alisia Phini\\AppData\\Local\\Temp\\ipykernel_11472\\4159473243.py:77: UserWarning: Converting to PeriodArray/Index representation will drop timezone information.\n",
      "  df['Date'] = pd.to_datetime(df['date']).dt.to_period('M').dt.start_time\n"
     ]
    },
    {
     "name": "stdout",
     "output_type": "stream",
     "text": [
      "15minute data with MA and RSI uploaded successfully for Bharat Petroleum Corporation to s3://planwo-stockmarket-pred-rsi-ma/Historical data/Nifty50/Bharat Petroleum Corporation/15minute.csv\n",
      "30minute data with MA and RSI uploaded successfully for Bharat Petroleum Corporation to s3://planwo-stockmarket-pred-rsi-ma/Historical data/Nifty50/Bharat Petroleum Corporation/30minute.csv\n",
      "60minute data with MA and RSI uploaded successfully for Bharat Petroleum Corporation to s3://planwo-stockmarket-pred-rsi-ma/Historical data/Nifty50/Bharat Petroleum Corporation/60minute.csv\n",
      "1day data with MA and RSI uploaded successfully for Bharat Petroleum Corporation to s3://planwo-stockmarket-pred-rsi-ma/Historical data/Nifty50/Bharat Petroleum Corporation/1day.csv\n",
      "1week data with MA and RSI uploaded successfully for Bharat Petroleum Corporation to s3://planwo-stockmarket-pred-rsi-ma/Historical data/Nifty50/Bharat Petroleum Corporation/1week.csv\n",
      "1month data with MA and RSI uploaded successfully for Bharat Petroleum Corporation to s3://planwo-stockmarket-pred-rsi-ma/Historical data/Nifty50/Bharat Petroleum Corporation/1month.csv\n",
      "Fetching 15minute data for Bharat Electronics...\n",
      "Fetching 30minute data for Bharat Electronics...\n",
      "Fetching 60minute data for Bharat Electronics...\n"
     ]
    },
    {
     "name": "stderr",
     "output_type": "stream",
     "text": [
      "C:\\Users\\Alisia Phini\\AppData\\Local\\Temp\\ipykernel_11472\\4159473243.py:68: UserWarning: Converting to PeriodArray/Index representation will drop timezone information.\n",
      "  df['Date'] = pd.to_datetime(df['date']).dt.to_period('W').dt.start_time\n",
      "C:\\Users\\Alisia Phini\\AppData\\Local\\Temp\\ipykernel_11472\\4159473243.py:77: UserWarning: Converting to PeriodArray/Index representation will drop timezone information.\n",
      "  df['Date'] = pd.to_datetime(df['date']).dt.to_period('M').dt.start_time\n"
     ]
    },
    {
     "name": "stdout",
     "output_type": "stream",
     "text": [
      "15minute data with MA and RSI uploaded successfully for Bharat Electronics to s3://planwo-stockmarket-pred-rsi-ma/Historical data/Nifty50/Bharat Electronics/15minute.csv\n",
      "30minute data with MA and RSI uploaded successfully for Bharat Electronics to s3://planwo-stockmarket-pred-rsi-ma/Historical data/Nifty50/Bharat Electronics/30minute.csv\n",
      "60minute data with MA and RSI uploaded successfully for Bharat Electronics to s3://planwo-stockmarket-pred-rsi-ma/Historical data/Nifty50/Bharat Electronics/60minute.csv\n",
      "1day data with MA and RSI uploaded successfully for Bharat Electronics to s3://planwo-stockmarket-pred-rsi-ma/Historical data/Nifty50/Bharat Electronics/1day.csv\n",
      "1week data with MA and RSI uploaded successfully for Bharat Electronics to s3://planwo-stockmarket-pred-rsi-ma/Historical data/Nifty50/Bharat Electronics/1week.csv\n",
      "1month data with MA and RSI uploaded successfully for Bharat Electronics to s3://planwo-stockmarket-pred-rsi-ma/Historical data/Nifty50/Bharat Electronics/1month.csv\n",
      "Fetching 15minute data for Kotak Mahindra Bank...\n",
      "Fetching 30minute data for Kotak Mahindra Bank...\n",
      "Fetching 60minute data for Kotak Mahindra Bank...\n"
     ]
    },
    {
     "name": "stderr",
     "output_type": "stream",
     "text": [
      "C:\\Users\\Alisia Phini\\AppData\\Local\\Temp\\ipykernel_11472\\4159473243.py:68: UserWarning: Converting to PeriodArray/Index representation will drop timezone information.\n",
      "  df['Date'] = pd.to_datetime(df['date']).dt.to_period('W').dt.start_time\n",
      "C:\\Users\\Alisia Phini\\AppData\\Local\\Temp\\ipykernel_11472\\4159473243.py:77: UserWarning: Converting to PeriodArray/Index representation will drop timezone information.\n",
      "  df['Date'] = pd.to_datetime(df['date']).dt.to_period('M').dt.start_time\n"
     ]
    },
    {
     "name": "stdout",
     "output_type": "stream",
     "text": [
      "15minute data with MA and RSI uploaded successfully for Kotak Mahindra Bank to s3://planwo-stockmarket-pred-rsi-ma/Historical data/Nifty50/Kotak Mahindra Bank/15minute.csv\n",
      "30minute data with MA and RSI uploaded successfully for Kotak Mahindra Bank to s3://planwo-stockmarket-pred-rsi-ma/Historical data/Nifty50/Kotak Mahindra Bank/30minute.csv\n",
      "60minute data with MA and RSI uploaded successfully for Kotak Mahindra Bank to s3://planwo-stockmarket-pred-rsi-ma/Historical data/Nifty50/Kotak Mahindra Bank/60minute.csv\n",
      "1day data with MA and RSI uploaded successfully for Kotak Mahindra Bank to s3://planwo-stockmarket-pred-rsi-ma/Historical data/Nifty50/Kotak Mahindra Bank/1day.csv\n",
      "1week data with MA and RSI uploaded successfully for Kotak Mahindra Bank to s3://planwo-stockmarket-pred-rsi-ma/Historical data/Nifty50/Kotak Mahindra Bank/1week.csv\n",
      "1month data with MA and RSI uploaded successfully for Kotak Mahindra Bank to s3://planwo-stockmarket-pred-rsi-ma/Historical data/Nifty50/Kotak Mahindra Bank/1month.csv\n",
      "Fetching 15minute data for Infosys...\n",
      "Fetching 30minute data for Infosys...\n",
      "Fetching 60minute data for Infosys...\n"
     ]
    },
    {
     "name": "stderr",
     "output_type": "stream",
     "text": [
      "C:\\Users\\Alisia Phini\\AppData\\Local\\Temp\\ipykernel_11472\\4159473243.py:68: UserWarning: Converting to PeriodArray/Index representation will drop timezone information.\n",
      "  df['Date'] = pd.to_datetime(df['date']).dt.to_period('W').dt.start_time\n",
      "C:\\Users\\Alisia Phini\\AppData\\Local\\Temp\\ipykernel_11472\\4159473243.py:77: UserWarning: Converting to PeriodArray/Index representation will drop timezone information.\n",
      "  df['Date'] = pd.to_datetime(df['date']).dt.to_period('M').dt.start_time\n"
     ]
    },
    {
     "name": "stdout",
     "output_type": "stream",
     "text": [
      "15minute data with MA and RSI uploaded successfully for Infosys to s3://planwo-stockmarket-pred-rsi-ma/Historical data/Nifty50/Infosys/15minute.csv\n",
      "30minute data with MA and RSI uploaded successfully for Infosys to s3://planwo-stockmarket-pred-rsi-ma/Historical data/Nifty50/Infosys/30minute.csv\n",
      "60minute data with MA and RSI uploaded successfully for Infosys to s3://planwo-stockmarket-pred-rsi-ma/Historical data/Nifty50/Infosys/60minute.csv\n",
      "1day data with MA and RSI uploaded successfully for Infosys to s3://planwo-stockmarket-pred-rsi-ma/Historical data/Nifty50/Infosys/1day.csv\n",
      "1week data with MA and RSI uploaded successfully for Infosys to s3://planwo-stockmarket-pred-rsi-ma/Historical data/Nifty50/Infosys/1week.csv\n",
      "1month data with MA and RSI uploaded successfully for Infosys to s3://planwo-stockmarket-pred-rsi-ma/Historical data/Nifty50/Infosys/1month.csv\n",
      "Fetching 15minute data for Bajaj Finance...\n",
      "Fetching 30minute data for Bajaj Finance...\n",
      "Fetching 60minute data for Bajaj Finance...\n"
     ]
    },
    {
     "name": "stderr",
     "output_type": "stream",
     "text": [
      "C:\\Users\\Alisia Phini\\AppData\\Local\\Temp\\ipykernel_11472\\4159473243.py:68: UserWarning: Converting to PeriodArray/Index representation will drop timezone information.\n",
      "  df['Date'] = pd.to_datetime(df['date']).dt.to_period('W').dt.start_time\n",
      "C:\\Users\\Alisia Phini\\AppData\\Local\\Temp\\ipykernel_11472\\4159473243.py:77: UserWarning: Converting to PeriodArray/Index representation will drop timezone information.\n",
      "  df['Date'] = pd.to_datetime(df['date']).dt.to_period('M').dt.start_time\n"
     ]
    },
    {
     "name": "stdout",
     "output_type": "stream",
     "text": [
      "15minute data with MA and RSI uploaded successfully for Bajaj Finance to s3://planwo-stockmarket-pred-rsi-ma/Historical data/Nifty50/Bajaj Finance/15minute.csv\n",
      "30minute data with MA and RSI uploaded successfully for Bajaj Finance to s3://planwo-stockmarket-pred-rsi-ma/Historical data/Nifty50/Bajaj Finance/30minute.csv\n",
      "60minute data with MA and RSI uploaded successfully for Bajaj Finance to s3://planwo-stockmarket-pred-rsi-ma/Historical data/Nifty50/Bajaj Finance/60minute.csv\n",
      "1day data with MA and RSI uploaded successfully for Bajaj Finance to s3://planwo-stockmarket-pred-rsi-ma/Historical data/Nifty50/Bajaj Finance/1day.csv\n",
      "1week data with MA and RSI uploaded successfully for Bajaj Finance to s3://planwo-stockmarket-pred-rsi-ma/Historical data/Nifty50/Bajaj Finance/1week.csv\n",
      "1month data with MA and RSI uploaded successfully for Bajaj Finance to s3://planwo-stockmarket-pred-rsi-ma/Historical data/Nifty50/Bajaj Finance/1month.csv\n",
      "Fetching 15minute data for Adani Enterprises...\n",
      "Fetching 30minute data for Adani Enterprises...\n",
      "Fetching 60minute data for Adani Enterprises...\n"
     ]
    },
    {
     "name": "stderr",
     "output_type": "stream",
     "text": [
      "C:\\Users\\Alisia Phini\\AppData\\Local\\Temp\\ipykernel_11472\\4159473243.py:68: UserWarning: Converting to PeriodArray/Index representation will drop timezone information.\n",
      "  df['Date'] = pd.to_datetime(df['date']).dt.to_period('W').dt.start_time\n",
      "C:\\Users\\Alisia Phini\\AppData\\Local\\Temp\\ipykernel_11472\\4159473243.py:77: UserWarning: Converting to PeriodArray/Index representation will drop timezone information.\n",
      "  df['Date'] = pd.to_datetime(df['date']).dt.to_period('M').dt.start_time\n"
     ]
    },
    {
     "name": "stdout",
     "output_type": "stream",
     "text": [
      "15minute data with MA and RSI uploaded successfully for Adani Enterprises to s3://planwo-stockmarket-pred-rsi-ma/Historical data/Nifty50/Adani Enterprises/15minute.csv\n",
      "30minute data with MA and RSI uploaded successfully for Adani Enterprises to s3://planwo-stockmarket-pred-rsi-ma/Historical data/Nifty50/Adani Enterprises/30minute.csv\n",
      "60minute data with MA and RSI uploaded successfully for Adani Enterprises to s3://planwo-stockmarket-pred-rsi-ma/Historical data/Nifty50/Adani Enterprises/60minute.csv\n",
      "1day data with MA and RSI uploaded successfully for Adani Enterprises to s3://planwo-stockmarket-pred-rsi-ma/Historical data/Nifty50/Adani Enterprises/1day.csv\n",
      "1week data with MA and RSI uploaded successfully for Adani Enterprises to s3://planwo-stockmarket-pred-rsi-ma/Historical data/Nifty50/Adani Enterprises/1week.csv\n",
      "1month data with MA and RSI uploaded successfully for Adani Enterprises to s3://planwo-stockmarket-pred-rsi-ma/Historical data/Nifty50/Adani Enterprises/1month.csv\n",
      "Fetching 15minute data for Sun Pharmaceutical Industries...\n",
      "Fetching 30minute data for Sun Pharmaceutical Industries...\n",
      "Fetching 60minute data for Sun Pharmaceutical Industries...\n"
     ]
    },
    {
     "name": "stderr",
     "output_type": "stream",
     "text": [
      "C:\\Users\\Alisia Phini\\AppData\\Local\\Temp\\ipykernel_11472\\4159473243.py:68: UserWarning: Converting to PeriodArray/Index representation will drop timezone information.\n",
      "  df['Date'] = pd.to_datetime(df['date']).dt.to_period('W').dt.start_time\n",
      "C:\\Users\\Alisia Phini\\AppData\\Local\\Temp\\ipykernel_11472\\4159473243.py:77: UserWarning: Converting to PeriodArray/Index representation will drop timezone information.\n",
      "  df['Date'] = pd.to_datetime(df['date']).dt.to_period('M').dt.start_time\n"
     ]
    },
    {
     "name": "stdout",
     "output_type": "stream",
     "text": [
      "15minute data with MA and RSI uploaded successfully for Sun Pharmaceutical Industries to s3://planwo-stockmarket-pred-rsi-ma/Historical data/Nifty50/Sun Pharmaceutical Industries/15minute.csv\n",
      "30minute data with MA and RSI uploaded successfully for Sun Pharmaceutical Industries to s3://planwo-stockmarket-pred-rsi-ma/Historical data/Nifty50/Sun Pharmaceutical Industries/30minute.csv\n",
      "60minute data with MA and RSI uploaded successfully for Sun Pharmaceutical Industries to s3://planwo-stockmarket-pred-rsi-ma/Historical data/Nifty50/Sun Pharmaceutical Industries/60minute.csv\n",
      "1day data with MA and RSI uploaded successfully for Sun Pharmaceutical Industries to s3://planwo-stockmarket-pred-rsi-ma/Historical data/Nifty50/Sun Pharmaceutical Industries/1day.csv\n",
      "1week data with MA and RSI uploaded successfully for Sun Pharmaceutical Industries to s3://planwo-stockmarket-pred-rsi-ma/Historical data/Nifty50/Sun Pharmaceutical Industries/1week.csv\n",
      "1month data with MA and RSI uploaded successfully for Sun Pharmaceutical Industries to s3://planwo-stockmarket-pred-rsi-ma/Historical data/Nifty50/Sun Pharmaceutical Industries/1month.csv\n",
      "Fetching 15minute data for JSW Steel...\n",
      "Fetching 30minute data for JSW Steel...\n",
      "Fetching 60minute data for JSW Steel...\n"
     ]
    },
    {
     "name": "stderr",
     "output_type": "stream",
     "text": [
      "C:\\Users\\Alisia Phini\\AppData\\Local\\Temp\\ipykernel_11472\\4159473243.py:68: UserWarning: Converting to PeriodArray/Index representation will drop timezone information.\n",
      "  df['Date'] = pd.to_datetime(df['date']).dt.to_period('W').dt.start_time\n",
      "C:\\Users\\Alisia Phini\\AppData\\Local\\Temp\\ipykernel_11472\\4159473243.py:77: UserWarning: Converting to PeriodArray/Index representation will drop timezone information.\n",
      "  df['Date'] = pd.to_datetime(df['date']).dt.to_period('M').dt.start_time\n"
     ]
    },
    {
     "name": "stdout",
     "output_type": "stream",
     "text": [
      "15minute data with MA and RSI uploaded successfully for JSW Steel to s3://planwo-stockmarket-pred-rsi-ma/Historical data/Nifty50/JSW Steel/15minute.csv\n",
      "30minute data with MA and RSI uploaded successfully for JSW Steel to s3://planwo-stockmarket-pred-rsi-ma/Historical data/Nifty50/JSW Steel/30minute.csv\n",
      "60minute data with MA and RSI uploaded successfully for JSW Steel to s3://planwo-stockmarket-pred-rsi-ma/Historical data/Nifty50/JSW Steel/60minute.csv\n",
      "1day data with MA and RSI uploaded successfully for JSW Steel to s3://planwo-stockmarket-pred-rsi-ma/Historical data/Nifty50/JSW Steel/1day.csv\n",
      "1week data with MA and RSI uploaded successfully for JSW Steel to s3://planwo-stockmarket-pred-rsi-ma/Historical data/Nifty50/JSW Steel/1week.csv\n",
      "1month data with MA and RSI uploaded successfully for JSW Steel to s3://planwo-stockmarket-pred-rsi-ma/Historical data/Nifty50/JSW Steel/1month.csv\n",
      "Fetching 15minute data for HDFC Bank...\n",
      "Fetching 30minute data for HDFC Bank...\n",
      "Fetching 60minute data for HDFC Bank...\n"
     ]
    },
    {
     "name": "stderr",
     "output_type": "stream",
     "text": [
      "C:\\Users\\Alisia Phini\\AppData\\Local\\Temp\\ipykernel_11472\\4159473243.py:68: UserWarning: Converting to PeriodArray/Index representation will drop timezone information.\n",
      "  df['Date'] = pd.to_datetime(df['date']).dt.to_period('W').dt.start_time\n",
      "C:\\Users\\Alisia Phini\\AppData\\Local\\Temp\\ipykernel_11472\\4159473243.py:77: UserWarning: Converting to PeriodArray/Index representation will drop timezone information.\n",
      "  df['Date'] = pd.to_datetime(df['date']).dt.to_period('M').dt.start_time\n"
     ]
    },
    {
     "name": "stdout",
     "output_type": "stream",
     "text": [
      "15minute data with MA and RSI uploaded successfully for HDFC Bank to s3://planwo-stockmarket-pred-rsi-ma/Historical data/Nifty50/HDFC Bank/15minute.csv\n",
      "30minute data with MA and RSI uploaded successfully for HDFC Bank to s3://planwo-stockmarket-pred-rsi-ma/Historical data/Nifty50/HDFC Bank/30minute.csv\n",
      "60minute data with MA and RSI uploaded successfully for HDFC Bank to s3://planwo-stockmarket-pred-rsi-ma/Historical data/Nifty50/HDFC Bank/60minute.csv\n",
      "1day data with MA and RSI uploaded successfully for HDFC Bank to s3://planwo-stockmarket-pred-rsi-ma/Historical data/Nifty50/HDFC Bank/1day.csv\n",
      "1week data with MA and RSI uploaded successfully for HDFC Bank to s3://planwo-stockmarket-pred-rsi-ma/Historical data/Nifty50/HDFC Bank/1week.csv\n",
      "1month data with MA and RSI uploaded successfully for HDFC Bank to s3://planwo-stockmarket-pred-rsi-ma/Historical data/Nifty50/HDFC Bank/1month.csv\n",
      "Fetching 15minute data for Tata Consultancy Services...\n",
      "Fetching 30minute data for Tata Consultancy Services...\n",
      "Fetching 60minute data for Tata Consultancy Services...\n"
     ]
    },
    {
     "name": "stderr",
     "output_type": "stream",
     "text": [
      "C:\\Users\\Alisia Phini\\AppData\\Local\\Temp\\ipykernel_11472\\4159473243.py:68: UserWarning: Converting to PeriodArray/Index representation will drop timezone information.\n",
      "  df['Date'] = pd.to_datetime(df['date']).dt.to_period('W').dt.start_time\n",
      "C:\\Users\\Alisia Phini\\AppData\\Local\\Temp\\ipykernel_11472\\4159473243.py:77: UserWarning: Converting to PeriodArray/Index representation will drop timezone information.\n",
      "  df['Date'] = pd.to_datetime(df['date']).dt.to_period('M').dt.start_time\n"
     ]
    },
    {
     "name": "stdout",
     "output_type": "stream",
     "text": [
      "15minute data with MA and RSI uploaded successfully for Tata Consultancy Services to s3://planwo-stockmarket-pred-rsi-ma/Historical data/Nifty50/Tata Consultancy Services/15minute.csv\n",
      "30minute data with MA and RSI uploaded successfully for Tata Consultancy Services to s3://planwo-stockmarket-pred-rsi-ma/Historical data/Nifty50/Tata Consultancy Services/30minute.csv\n",
      "60minute data with MA and RSI uploaded successfully for Tata Consultancy Services to s3://planwo-stockmarket-pred-rsi-ma/Historical data/Nifty50/Tata Consultancy Services/60minute.csv\n",
      "1day data with MA and RSI uploaded successfully for Tata Consultancy Services to s3://planwo-stockmarket-pred-rsi-ma/Historical data/Nifty50/Tata Consultancy Services/1day.csv\n",
      "1week data with MA and RSI uploaded successfully for Tata Consultancy Services to s3://planwo-stockmarket-pred-rsi-ma/Historical data/Nifty50/Tata Consultancy Services/1week.csv\n",
      "1month data with MA and RSI uploaded successfully for Tata Consultancy Services to s3://planwo-stockmarket-pred-rsi-ma/Historical data/Nifty50/Tata Consultancy Services/1month.csv\n",
      "Fetching 15minute data for ICICI Bank...\n",
      "Fetching 30minute data for ICICI Bank...\n",
      "Fetching 60minute data for ICICI Bank...\n"
     ]
    },
    {
     "name": "stderr",
     "output_type": "stream",
     "text": [
      "C:\\Users\\Alisia Phini\\AppData\\Local\\Temp\\ipykernel_11472\\4159473243.py:68: UserWarning: Converting to PeriodArray/Index representation will drop timezone information.\n",
      "  df['Date'] = pd.to_datetime(df['date']).dt.to_period('W').dt.start_time\n",
      "C:\\Users\\Alisia Phini\\AppData\\Local\\Temp\\ipykernel_11472\\4159473243.py:77: UserWarning: Converting to PeriodArray/Index representation will drop timezone information.\n",
      "  df['Date'] = pd.to_datetime(df['date']).dt.to_period('M').dt.start_time\n"
     ]
    },
    {
     "name": "stdout",
     "output_type": "stream",
     "text": [
      "15minute data with MA and RSI uploaded successfully for ICICI Bank to s3://planwo-stockmarket-pred-rsi-ma/Historical data/Nifty50/ICICI Bank/15minute.csv\n",
      "30minute data with MA and RSI uploaded successfully for ICICI Bank to s3://planwo-stockmarket-pred-rsi-ma/Historical data/Nifty50/ICICI Bank/30minute.csv\n",
      "60minute data with MA and RSI uploaded successfully for ICICI Bank to s3://planwo-stockmarket-pred-rsi-ma/Historical data/Nifty50/ICICI Bank/60minute.csv\n",
      "1day data with MA and RSI uploaded successfully for ICICI Bank to s3://planwo-stockmarket-pred-rsi-ma/Historical data/Nifty50/ICICI Bank/1day.csv\n",
      "1week data with MA and RSI uploaded successfully for ICICI Bank to s3://planwo-stockmarket-pred-rsi-ma/Historical data/Nifty50/ICICI Bank/1week.csv\n",
      "1month data with MA and RSI uploaded successfully for ICICI Bank to s3://planwo-stockmarket-pred-rsi-ma/Historical data/Nifty50/ICICI Bank/1month.csv\n",
      "Fetching 15minute data for Power Grid Corporation of India...\n",
      "Fetching 30minute data for Power Grid Corporation of India...\n",
      "Fetching 60minute data for Power Grid Corporation of India...\n"
     ]
    },
    {
     "name": "stderr",
     "output_type": "stream",
     "text": [
      "C:\\Users\\Alisia Phini\\AppData\\Local\\Temp\\ipykernel_11472\\4159473243.py:68: UserWarning: Converting to PeriodArray/Index representation will drop timezone information.\n",
      "  df['Date'] = pd.to_datetime(df['date']).dt.to_period('W').dt.start_time\n",
      "C:\\Users\\Alisia Phini\\AppData\\Local\\Temp\\ipykernel_11472\\4159473243.py:77: UserWarning: Converting to PeriodArray/Index representation will drop timezone information.\n",
      "  df['Date'] = pd.to_datetime(df['date']).dt.to_period('M').dt.start_time\n"
     ]
    },
    {
     "name": "stdout",
     "output_type": "stream",
     "text": [
      "15minute data with MA and RSI uploaded successfully for Power Grid Corporation of India to s3://planwo-stockmarket-pred-rsi-ma/Historical data/Nifty50/Power Grid Corporation of India/15minute.csv\n",
      "30minute data with MA and RSI uploaded successfully for Power Grid Corporation of India to s3://planwo-stockmarket-pred-rsi-ma/Historical data/Nifty50/Power Grid Corporation of India/30minute.csv\n",
      "60minute data with MA and RSI uploaded successfully for Power Grid Corporation of India to s3://planwo-stockmarket-pred-rsi-ma/Historical data/Nifty50/Power Grid Corporation of India/60minute.csv\n",
      "1day data with MA and RSI uploaded successfully for Power Grid Corporation of India to s3://planwo-stockmarket-pred-rsi-ma/Historical data/Nifty50/Power Grid Corporation of India/1day.csv\n",
      "1week data with MA and RSI uploaded successfully for Power Grid Corporation of India to s3://planwo-stockmarket-pred-rsi-ma/Historical data/Nifty50/Power Grid Corporation of India/1week.csv\n",
      "1month data with MA and RSI uploaded successfully for Power Grid Corporation of India to s3://planwo-stockmarket-pred-rsi-ma/Historical data/Nifty50/Power Grid Corporation of India/1month.csv\n",
      "Fetching 15minute data for Maruti Suzuki India...\n",
      "Fetching 30minute data for Maruti Suzuki India...\n",
      "Fetching 60minute data for Maruti Suzuki India...\n"
     ]
    },
    {
     "name": "stderr",
     "output_type": "stream",
     "text": [
      "C:\\Users\\Alisia Phini\\AppData\\Local\\Temp\\ipykernel_11472\\4159473243.py:68: UserWarning: Converting to PeriodArray/Index representation will drop timezone information.\n",
      "  df['Date'] = pd.to_datetime(df['date']).dt.to_period('W').dt.start_time\n",
      "C:\\Users\\Alisia Phini\\AppData\\Local\\Temp\\ipykernel_11472\\4159473243.py:77: UserWarning: Converting to PeriodArray/Index representation will drop timezone information.\n",
      "  df['Date'] = pd.to_datetime(df['date']).dt.to_period('M').dt.start_time\n"
     ]
    },
    {
     "name": "stdout",
     "output_type": "stream",
     "text": [
      "15minute data with MA and RSI uploaded successfully for Maruti Suzuki India to s3://planwo-stockmarket-pred-rsi-ma/Historical data/Nifty50/Maruti Suzuki India/15minute.csv\n",
      "30minute data with MA and RSI uploaded successfully for Maruti Suzuki India to s3://planwo-stockmarket-pred-rsi-ma/Historical data/Nifty50/Maruti Suzuki India/30minute.csv\n",
      "60minute data with MA and RSI uploaded successfully for Maruti Suzuki India to s3://planwo-stockmarket-pred-rsi-ma/Historical data/Nifty50/Maruti Suzuki India/60minute.csv\n",
      "1day data with MA and RSI uploaded successfully for Maruti Suzuki India to s3://planwo-stockmarket-pred-rsi-ma/Historical data/Nifty50/Maruti Suzuki India/1day.csv\n",
      "1week data with MA and RSI uploaded successfully for Maruti Suzuki India to s3://planwo-stockmarket-pred-rsi-ma/Historical data/Nifty50/Maruti Suzuki India/1week.csv\n",
      "1month data with MA and RSI uploaded successfully for Maruti Suzuki India to s3://planwo-stockmarket-pred-rsi-ma/Historical data/Nifty50/Maruti Suzuki India/1month.csv\n",
      "Fetching 15minute data for IndusInd Bank...\n",
      "Fetching 30minute data for IndusInd Bank...\n",
      "Fetching 60minute data for IndusInd Bank...\n"
     ]
    },
    {
     "name": "stderr",
     "output_type": "stream",
     "text": [
      "C:\\Users\\Alisia Phini\\AppData\\Local\\Temp\\ipykernel_11472\\4159473243.py:68: UserWarning: Converting to PeriodArray/Index representation will drop timezone information.\n",
      "  df['Date'] = pd.to_datetime(df['date']).dt.to_period('W').dt.start_time\n",
      "C:\\Users\\Alisia Phini\\AppData\\Local\\Temp\\ipykernel_11472\\4159473243.py:77: UserWarning: Converting to PeriodArray/Index representation will drop timezone information.\n",
      "  df['Date'] = pd.to_datetime(df['date']).dt.to_period('M').dt.start_time\n"
     ]
    },
    {
     "name": "stdout",
     "output_type": "stream",
     "text": [
      "15minute data with MA and RSI uploaded successfully for IndusInd Bank to s3://planwo-stockmarket-pred-rsi-ma/Historical data/Nifty50/IndusInd Bank/15minute.csv\n",
      "30minute data with MA and RSI uploaded successfully for IndusInd Bank to s3://planwo-stockmarket-pred-rsi-ma/Historical data/Nifty50/IndusInd Bank/30minute.csv\n",
      "60minute data with MA and RSI uploaded successfully for IndusInd Bank to s3://planwo-stockmarket-pred-rsi-ma/Historical data/Nifty50/IndusInd Bank/60minute.csv\n",
      "1day data with MA and RSI uploaded successfully for IndusInd Bank to s3://planwo-stockmarket-pred-rsi-ma/Historical data/Nifty50/IndusInd Bank/1day.csv\n",
      "1week data with MA and RSI uploaded successfully for IndusInd Bank to s3://planwo-stockmarket-pred-rsi-ma/Historical data/Nifty50/IndusInd Bank/1week.csv\n",
      "1month data with MA and RSI uploaded successfully for IndusInd Bank to s3://planwo-stockmarket-pred-rsi-ma/Historical data/Nifty50/IndusInd Bank/1month.csv\n",
      "Fetching 15minute data for Axis Bank...\n",
      "Fetching 30minute data for Axis Bank...\n",
      "Fetching 60minute data for Axis Bank...\n"
     ]
    },
    {
     "name": "stderr",
     "output_type": "stream",
     "text": [
      "C:\\Users\\Alisia Phini\\AppData\\Local\\Temp\\ipykernel_11472\\4159473243.py:68: UserWarning: Converting to PeriodArray/Index representation will drop timezone information.\n",
      "  df['Date'] = pd.to_datetime(df['date']).dt.to_period('W').dt.start_time\n",
      "C:\\Users\\Alisia Phini\\AppData\\Local\\Temp\\ipykernel_11472\\4159473243.py:77: UserWarning: Converting to PeriodArray/Index representation will drop timezone information.\n",
      "  df['Date'] = pd.to_datetime(df['date']).dt.to_period('M').dt.start_time\n"
     ]
    },
    {
     "name": "stdout",
     "output_type": "stream",
     "text": [
      "15minute data with MA and RSI uploaded successfully for Axis Bank to s3://planwo-stockmarket-pred-rsi-ma/Historical data/Nifty50/Axis Bank/15minute.csv\n",
      "30minute data with MA and RSI uploaded successfully for Axis Bank to s3://planwo-stockmarket-pred-rsi-ma/Historical data/Nifty50/Axis Bank/30minute.csv\n",
      "60minute data with MA and RSI uploaded successfully for Axis Bank to s3://planwo-stockmarket-pred-rsi-ma/Historical data/Nifty50/Axis Bank/60minute.csv\n",
      "1day data with MA and RSI uploaded successfully for Axis Bank to s3://planwo-stockmarket-pred-rsi-ma/Historical data/Nifty50/Axis Bank/1day.csv\n",
      "1week data with MA and RSI uploaded successfully for Axis Bank to s3://planwo-stockmarket-pred-rsi-ma/Historical data/Nifty50/Axis Bank/1week.csv\n",
      "1month data with MA and RSI uploaded successfully for Axis Bank to s3://planwo-stockmarket-pred-rsi-ma/Historical data/Nifty50/Axis Bank/1month.csv\n",
      "Fetching 15minute data for HCL Technologies...\n",
      "Fetching 30minute data for HCL Technologies...\n",
      "Fetching 60minute data for HCL Technologies...\n"
     ]
    },
    {
     "name": "stderr",
     "output_type": "stream",
     "text": [
      "C:\\Users\\Alisia Phini\\AppData\\Local\\Temp\\ipykernel_11472\\4159473243.py:68: UserWarning: Converting to PeriodArray/Index representation will drop timezone information.\n",
      "  df['Date'] = pd.to_datetime(df['date']).dt.to_period('W').dt.start_time\n",
      "C:\\Users\\Alisia Phini\\AppData\\Local\\Temp\\ipykernel_11472\\4159473243.py:77: UserWarning: Converting to PeriodArray/Index representation will drop timezone information.\n",
      "  df['Date'] = pd.to_datetime(df['date']).dt.to_period('M').dt.start_time\n"
     ]
    },
    {
     "name": "stdout",
     "output_type": "stream",
     "text": [
      "15minute data with MA and RSI uploaded successfully for HCL Technologies to s3://planwo-stockmarket-pred-rsi-ma/Historical data/Nifty50/HCL Technologies/15minute.csv\n",
      "30minute data with MA and RSI uploaded successfully for HCL Technologies to s3://planwo-stockmarket-pred-rsi-ma/Historical data/Nifty50/HCL Technologies/30minute.csv\n",
      "60minute data with MA and RSI uploaded successfully for HCL Technologies to s3://planwo-stockmarket-pred-rsi-ma/Historical data/Nifty50/HCL Technologies/60minute.csv\n",
      "1day data with MA and RSI uploaded successfully for HCL Technologies to s3://planwo-stockmarket-pred-rsi-ma/Historical data/Nifty50/HCL Technologies/1day.csv\n",
      "1week data with MA and RSI uploaded successfully for HCL Technologies to s3://planwo-stockmarket-pred-rsi-ma/Historical data/Nifty50/HCL Technologies/1week.csv\n",
      "1month data with MA and RSI uploaded successfully for HCL Technologies to s3://planwo-stockmarket-pred-rsi-ma/Historical data/Nifty50/HCL Technologies/1month.csv\n",
      "Fetching 15minute data for Oil and Natural Gas Corp...\n",
      "Fetching 30minute data for Oil and Natural Gas Corp...\n",
      "Fetching 60minute data for Oil and Natural Gas Corp...\n"
     ]
    },
    {
     "name": "stderr",
     "output_type": "stream",
     "text": [
      "C:\\Users\\Alisia Phini\\AppData\\Local\\Temp\\ipykernel_11472\\4159473243.py:68: UserWarning: Converting to PeriodArray/Index representation will drop timezone information.\n",
      "  df['Date'] = pd.to_datetime(df['date']).dt.to_period('W').dt.start_time\n",
      "C:\\Users\\Alisia Phini\\AppData\\Local\\Temp\\ipykernel_11472\\4159473243.py:77: UserWarning: Converting to PeriodArray/Index representation will drop timezone information.\n",
      "  df['Date'] = pd.to_datetime(df['date']).dt.to_period('M').dt.start_time\n"
     ]
    },
    {
     "name": "stdout",
     "output_type": "stream",
     "text": [
      "15minute data with MA and RSI uploaded successfully for Oil and Natural Gas Corp to s3://planwo-stockmarket-pred-rsi-ma/Historical data/Nifty50/Oil and Natural Gas Corp/15minute.csv\n",
      "30minute data with MA and RSI uploaded successfully for Oil and Natural Gas Corp to s3://planwo-stockmarket-pred-rsi-ma/Historical data/Nifty50/Oil and Natural Gas Corp/30minute.csv\n",
      "60minute data with MA and RSI uploaded successfully for Oil and Natural Gas Corp to s3://planwo-stockmarket-pred-rsi-ma/Historical data/Nifty50/Oil and Natural Gas Corp/60minute.csv\n",
      "1day data with MA and RSI uploaded successfully for Oil and Natural Gas Corp to s3://planwo-stockmarket-pred-rsi-ma/Historical data/Nifty50/Oil and Natural Gas Corp/1day.csv\n",
      "1week data with MA and RSI uploaded successfully for Oil and Natural Gas Corp to s3://planwo-stockmarket-pred-rsi-ma/Historical data/Nifty50/Oil and Natural Gas Corp/1week.csv\n",
      "1month data with MA and RSI uploaded successfully for Oil and Natural Gas Corp to s3://planwo-stockmarket-pred-rsi-ma/Historical data/Nifty50/Oil and Natural Gas Corp/1month.csv\n",
      "Fetching 15minute data for NTPC...\n",
      "Fetching 30minute data for NTPC...\n",
      "Fetching 60minute data for NTPC...\n"
     ]
    },
    {
     "name": "stderr",
     "output_type": "stream",
     "text": [
      "C:\\Users\\Alisia Phini\\AppData\\Local\\Temp\\ipykernel_11472\\4159473243.py:68: UserWarning: Converting to PeriodArray/Index representation will drop timezone information.\n",
      "  df['Date'] = pd.to_datetime(df['date']).dt.to_period('W').dt.start_time\n",
      "C:\\Users\\Alisia Phini\\AppData\\Local\\Temp\\ipykernel_11472\\4159473243.py:77: UserWarning: Converting to PeriodArray/Index representation will drop timezone information.\n",
      "  df['Date'] = pd.to_datetime(df['date']).dt.to_period('M').dt.start_time\n"
     ]
    },
    {
     "name": "stdout",
     "output_type": "stream",
     "text": [
      "15minute data with MA and RSI uploaded successfully for NTPC to s3://planwo-stockmarket-pred-rsi-ma/Historical data/Nifty50/NTPC/15minute.csv\n",
      "30minute data with MA and RSI uploaded successfully for NTPC to s3://planwo-stockmarket-pred-rsi-ma/Historical data/Nifty50/NTPC/30minute.csv\n",
      "60minute data with MA and RSI uploaded successfully for NTPC to s3://planwo-stockmarket-pred-rsi-ma/Historical data/Nifty50/NTPC/60minute.csv\n",
      "1day data with MA and RSI uploaded successfully for NTPC to s3://planwo-stockmarket-pred-rsi-ma/Historical data/Nifty50/NTPC/1day.csv\n",
      "1week data with MA and RSI uploaded successfully for NTPC to s3://planwo-stockmarket-pred-rsi-ma/Historical data/Nifty50/NTPC/1week.csv\n",
      "1month data with MA and RSI uploaded successfully for NTPC to s3://planwo-stockmarket-pred-rsi-ma/Historical data/Nifty50/NTPC/1month.csv\n",
      "Fetching 15minute data for Coal India...\n",
      "Fetching 30minute data for Coal India...\n",
      "Fetching 60minute data for Coal India...\n"
     ]
    },
    {
     "name": "stderr",
     "output_type": "stream",
     "text": [
      "C:\\Users\\Alisia Phini\\AppData\\Local\\Temp\\ipykernel_11472\\4159473243.py:68: UserWarning: Converting to PeriodArray/Index representation will drop timezone information.\n",
      "  df['Date'] = pd.to_datetime(df['date']).dt.to_period('W').dt.start_time\n",
      "C:\\Users\\Alisia Phini\\AppData\\Local\\Temp\\ipykernel_11472\\4159473243.py:77: UserWarning: Converting to PeriodArray/Index representation will drop timezone information.\n",
      "  df['Date'] = pd.to_datetime(df['date']).dt.to_period('M').dt.start_time\n"
     ]
    },
    {
     "name": "stdout",
     "output_type": "stream",
     "text": [
      "15minute data with MA and RSI uploaded successfully for Coal India to s3://planwo-stockmarket-pred-rsi-ma/Historical data/Nifty50/Coal India/15minute.csv\n",
      "30minute data with MA and RSI uploaded successfully for Coal India to s3://planwo-stockmarket-pred-rsi-ma/Historical data/Nifty50/Coal India/30minute.csv\n",
      "60minute data with MA and RSI uploaded successfully for Coal India to s3://planwo-stockmarket-pred-rsi-ma/Historical data/Nifty50/Coal India/60minute.csv\n",
      "1day data with MA and RSI uploaded successfully for Coal India to s3://planwo-stockmarket-pred-rsi-ma/Historical data/Nifty50/Coal India/1day.csv\n",
      "1week data with MA and RSI uploaded successfully for Coal India to s3://planwo-stockmarket-pred-rsi-ma/Historical data/Nifty50/Coal India/1week.csv\n",
      "1month data with MA and RSI uploaded successfully for Coal India to s3://planwo-stockmarket-pred-rsi-ma/Historical data/Nifty50/Coal India/1month.csv\n",
      "Fetching 15minute data for Bharti Airtel...\n",
      "Fetching 30minute data for Bharti Airtel...\n",
      "Fetching 60minute data for Bharti Airtel...\n"
     ]
    },
    {
     "name": "stderr",
     "output_type": "stream",
     "text": [
      "C:\\Users\\Alisia Phini\\AppData\\Local\\Temp\\ipykernel_11472\\4159473243.py:68: UserWarning: Converting to PeriodArray/Index representation will drop timezone information.\n",
      "  df['Date'] = pd.to_datetime(df['date']).dt.to_period('W').dt.start_time\n",
      "C:\\Users\\Alisia Phini\\AppData\\Local\\Temp\\ipykernel_11472\\4159473243.py:77: UserWarning: Converting to PeriodArray/Index representation will drop timezone information.\n",
      "  df['Date'] = pd.to_datetime(df['date']).dt.to_period('M').dt.start_time\n"
     ]
    },
    {
     "name": "stdout",
     "output_type": "stream",
     "text": [
      "15minute data with MA and RSI uploaded successfully for Bharti Airtel to s3://planwo-stockmarket-pred-rsi-ma/Historical data/Nifty50/Bharti Airtel/15minute.csv\n",
      "30minute data with MA and RSI uploaded successfully for Bharti Airtel to s3://planwo-stockmarket-pred-rsi-ma/Historical data/Nifty50/Bharti Airtel/30minute.csv\n",
      "60minute data with MA and RSI uploaded successfully for Bharti Airtel to s3://planwo-stockmarket-pred-rsi-ma/Historical data/Nifty50/Bharti Airtel/60minute.csv\n",
      "1day data with MA and RSI uploaded successfully for Bharti Airtel to s3://planwo-stockmarket-pred-rsi-ma/Historical data/Nifty50/Bharti Airtel/1day.csv\n",
      "1week data with MA and RSI uploaded successfully for Bharti Airtel to s3://planwo-stockmarket-pred-rsi-ma/Historical data/Nifty50/Bharti Airtel/1week.csv\n",
      "1month data with MA and RSI uploaded successfully for Bharti Airtel to s3://planwo-stockmarket-pred-rsi-ma/Historical data/Nifty50/Bharti Airtel/1month.csv\n",
      "Fetching 15minute data for Tech Mahindra...\n",
      "Fetching 30minute data for Tech Mahindra...\n",
      "Fetching 60minute data for Tech Mahindra...\n"
     ]
    },
    {
     "name": "stderr",
     "output_type": "stream",
     "text": [
      "C:\\Users\\Alisia Phini\\AppData\\Local\\Temp\\ipykernel_11472\\4159473243.py:68: UserWarning: Converting to PeriodArray/Index representation will drop timezone information.\n",
      "  df['Date'] = pd.to_datetime(df['date']).dt.to_period('W').dt.start_time\n",
      "C:\\Users\\Alisia Phini\\AppData\\Local\\Temp\\ipykernel_11472\\4159473243.py:77: UserWarning: Converting to PeriodArray/Index representation will drop timezone information.\n",
      "  df['Date'] = pd.to_datetime(df['date']).dt.to_period('M').dt.start_time\n"
     ]
    },
    {
     "name": "stdout",
     "output_type": "stream",
     "text": [
      "15minute data with MA and RSI uploaded successfully for Tech Mahindra to s3://planwo-stockmarket-pred-rsi-ma/Historical data/Nifty50/Tech Mahindra/15minute.csv\n",
      "30minute data with MA and RSI uploaded successfully for Tech Mahindra to s3://planwo-stockmarket-pred-rsi-ma/Historical data/Nifty50/Tech Mahindra/30minute.csv\n",
      "60minute data with MA and RSI uploaded successfully for Tech Mahindra to s3://planwo-stockmarket-pred-rsi-ma/Historical data/Nifty50/Tech Mahindra/60minute.csv\n",
      "1day data with MA and RSI uploaded successfully for Tech Mahindra to s3://planwo-stockmarket-pred-rsi-ma/Historical data/Nifty50/Tech Mahindra/1day.csv\n",
      "1week data with MA and RSI uploaded successfully for Tech Mahindra to s3://planwo-stockmarket-pred-rsi-ma/Historical data/Nifty50/Tech Mahindra/1week.csv\n",
      "1month data with MA and RSI uploaded successfully for Tech Mahindra to s3://planwo-stockmarket-pred-rsi-ma/Historical data/Nifty50/Tech Mahindra/1month.csv\n",
      "Fetching 15minute data for Adani Port & Special Economic Zone...\n",
      "Fetching 30minute data for Adani Port & Special Economic Zone...\n",
      "Fetching 60minute data for Adani Port & Special Economic Zone...\n"
     ]
    },
    {
     "name": "stderr",
     "output_type": "stream",
     "text": [
      "C:\\Users\\Alisia Phini\\AppData\\Local\\Temp\\ipykernel_11472\\4159473243.py:68: UserWarning: Converting to PeriodArray/Index representation will drop timezone information.\n",
      "  df['Date'] = pd.to_datetime(df['date']).dt.to_period('W').dt.start_time\n",
      "C:\\Users\\Alisia Phini\\AppData\\Local\\Temp\\ipykernel_11472\\4159473243.py:77: UserWarning: Converting to PeriodArray/Index representation will drop timezone information.\n",
      "  df['Date'] = pd.to_datetime(df['date']).dt.to_period('M').dt.start_time\n"
     ]
    },
    {
     "name": "stdout",
     "output_type": "stream",
     "text": [
      "15minute data with MA and RSI uploaded successfully for Adani Port & Special Economic Zone to s3://planwo-stockmarket-pred-rsi-ma/Historical data/Nifty50/Adani Port & Special Economic Zone/15minute.csv\n",
      "30minute data with MA and RSI uploaded successfully for Adani Port & Special Economic Zone to s3://planwo-stockmarket-pred-rsi-ma/Historical data/Nifty50/Adani Port & Special Economic Zone/30minute.csv\n",
      "60minute data with MA and RSI uploaded successfully for Adani Port & Special Economic Zone to s3://planwo-stockmarket-pred-rsi-ma/Historical data/Nifty50/Adani Port & Special Economic Zone/60minute.csv\n",
      "1day data with MA and RSI uploaded successfully for Adani Port & Special Economic Zone to s3://planwo-stockmarket-pred-rsi-ma/Historical data/Nifty50/Adani Port & Special Economic Zone/1day.csv\n",
      "1week data with MA and RSI uploaded successfully for Adani Port & Special Economic Zone to s3://planwo-stockmarket-pred-rsi-ma/Historical data/Nifty50/Adani Port & Special Economic Zone/1week.csv\n",
      "1month data with MA and RSI uploaded successfully for Adani Port & Special Economic Zone to s3://planwo-stockmarket-pred-rsi-ma/Historical data/Nifty50/Adani Port & Special Economic Zone/1month.csv\n",
      "Fetching 15minute data for HDFC Life Insurance Company...\n",
      "Fetching 30minute data for HDFC Life Insurance Company...\n",
      "Fetching 60minute data for HDFC Life Insurance Company...\n"
     ]
    },
    {
     "name": "stderr",
     "output_type": "stream",
     "text": [
      "C:\\Users\\Alisia Phini\\AppData\\Local\\Temp\\ipykernel_11472\\4159473243.py:68: UserWarning: Converting to PeriodArray/Index representation will drop timezone information.\n",
      "  df['Date'] = pd.to_datetime(df['date']).dt.to_period('W').dt.start_time\n",
      "C:\\Users\\Alisia Phini\\AppData\\Local\\Temp\\ipykernel_11472\\4159473243.py:77: UserWarning: Converting to PeriodArray/Index representation will drop timezone information.\n",
      "  df['Date'] = pd.to_datetime(df['date']).dt.to_period('M').dt.start_time\n"
     ]
    },
    {
     "name": "stdout",
     "output_type": "stream",
     "text": [
      "15minute data with MA and RSI uploaded successfully for HDFC Life Insurance Company to s3://planwo-stockmarket-pred-rsi-ma/Historical data/Nifty50/HDFC Life Insurance Company/15minute.csv\n",
      "30minute data with MA and RSI uploaded successfully for HDFC Life Insurance Company to s3://planwo-stockmarket-pred-rsi-ma/Historical data/Nifty50/HDFC Life Insurance Company/30minute.csv\n",
      "60minute data with MA and RSI uploaded successfully for HDFC Life Insurance Company to s3://planwo-stockmarket-pred-rsi-ma/Historical data/Nifty50/HDFC Life Insurance Company/60minute.csv\n",
      "1day data with MA and RSI uploaded successfully for HDFC Life Insurance Company to s3://planwo-stockmarket-pred-rsi-ma/Historical data/Nifty50/HDFC Life Insurance Company/1day.csv\n",
      "1week data with MA and RSI uploaded successfully for HDFC Life Insurance Company to s3://planwo-stockmarket-pred-rsi-ma/Historical data/Nifty50/HDFC Life Insurance Company/1week.csv\n",
      "1month data with MA and RSI uploaded successfully for HDFC Life Insurance Company to s3://planwo-stockmarket-pred-rsi-ma/Historical data/Nifty50/HDFC Life Insurance Company/1month.csv\n",
      "Fetching 15minute data for SBI Life Insurance Company...\n",
      "Fetching 30minute data for SBI Life Insurance Company...\n",
      "Fetching 60minute data for SBI Life Insurance Company...\n"
     ]
    },
    {
     "name": "stderr",
     "output_type": "stream",
     "text": [
      "C:\\Users\\Alisia Phini\\AppData\\Local\\Temp\\ipykernel_11472\\4159473243.py:68: UserWarning: Converting to PeriodArray/Index representation will drop timezone information.\n",
      "  df['Date'] = pd.to_datetime(df['date']).dt.to_period('W').dt.start_time\n",
      "C:\\Users\\Alisia Phini\\AppData\\Local\\Temp\\ipykernel_11472\\4159473243.py:77: UserWarning: Converting to PeriodArray/Index representation will drop timezone information.\n",
      "  df['Date'] = pd.to_datetime(df['date']).dt.to_period('M').dt.start_time\n"
     ]
    },
    {
     "name": "stdout",
     "output_type": "stream",
     "text": [
      "15minute data with MA and RSI uploaded successfully for SBI Life Insurance Company to s3://planwo-stockmarket-pred-rsi-ma/Historical data/Nifty50/SBI Life Insurance Company/15minute.csv\n",
      "30minute data with MA and RSI uploaded successfully for SBI Life Insurance Company to s3://planwo-stockmarket-pred-rsi-ma/Historical data/Nifty50/SBI Life Insurance Company/30minute.csv\n",
      "60minute data with MA and RSI uploaded successfully for SBI Life Insurance Company to s3://planwo-stockmarket-pred-rsi-ma/Historical data/Nifty50/SBI Life Insurance Company/60minute.csv\n",
      "1day data with MA and RSI uploaded successfully for SBI Life Insurance Company to s3://planwo-stockmarket-pred-rsi-ma/Historical data/Nifty50/SBI Life Insurance Company/1day.csv\n",
      "1week data with MA and RSI uploaded successfully for SBI Life Insurance Company to s3://planwo-stockmarket-pred-rsi-ma/Historical data/Nifty50/SBI Life Insurance Company/1week.csv\n",
      "1month data with MA and RSI uploaded successfully for SBI Life Insurance Company to s3://planwo-stockmarket-pred-rsi-ma/Historical data/Nifty50/SBI Life Insurance Company/1month.csv\n",
      "Fetching 15minute data for UltraTech Cement ...\n",
      "Fetching 30minute data for UltraTech Cement ...\n",
      "Fetching 60minute data for UltraTech Cement ...\n"
     ]
    },
    {
     "name": "stderr",
     "output_type": "stream",
     "text": [
      "C:\\Users\\Alisia Phini\\AppData\\Local\\Temp\\ipykernel_11472\\4159473243.py:68: UserWarning: Converting to PeriodArray/Index representation will drop timezone information.\n",
      "  df['Date'] = pd.to_datetime(df['date']).dt.to_period('W').dt.start_time\n",
      "C:\\Users\\Alisia Phini\\AppData\\Local\\Temp\\ipykernel_11472\\4159473243.py:77: UserWarning: Converting to PeriodArray/Index representation will drop timezone information.\n",
      "  df['Date'] = pd.to_datetime(df['date']).dt.to_period('M').dt.start_time\n"
     ]
    },
    {
     "name": "stdout",
     "output_type": "stream",
     "text": [
      "15minute data with MA and RSI uploaded successfully for UltraTech Cement  to s3://planwo-stockmarket-pred-rsi-ma/Historical data/Nifty50/UltraTech Cement /15minute.csv\n",
      "30minute data with MA and RSI uploaded successfully for UltraTech Cement  to s3://planwo-stockmarket-pred-rsi-ma/Historical data/Nifty50/UltraTech Cement /30minute.csv\n",
      "60minute data with MA and RSI uploaded successfully for UltraTech Cement  to s3://planwo-stockmarket-pred-rsi-ma/Historical data/Nifty50/UltraTech Cement /60minute.csv\n",
      "1day data with MA and RSI uploaded successfully for UltraTech Cement  to s3://planwo-stockmarket-pred-rsi-ma/Historical data/Nifty50/UltraTech Cement /1day.csv\n",
      "1week data with MA and RSI uploaded successfully for UltraTech Cement  to s3://planwo-stockmarket-pred-rsi-ma/Historical data/Nifty50/UltraTech Cement /1week.csv\n",
      "1month data with MA and RSI uploaded successfully for UltraTech Cement  to s3://planwo-stockmarket-pred-rsi-ma/Historical data/Nifty50/UltraTech Cement /1month.csv\n",
      "Fetching 15minute data for Bajaj Auto...\n",
      "Fetching 30minute data for Bajaj Auto...\n",
      "Fetching 60minute data for Bajaj Auto...\n"
     ]
    },
    {
     "name": "stderr",
     "output_type": "stream",
     "text": [
      "C:\\Users\\Alisia Phini\\AppData\\Local\\Temp\\ipykernel_11472\\4159473243.py:68: UserWarning: Converting to PeriodArray/Index representation will drop timezone information.\n",
      "  df['Date'] = pd.to_datetime(df['date']).dt.to_period('W').dt.start_time\n",
      "C:\\Users\\Alisia Phini\\AppData\\Local\\Temp\\ipykernel_11472\\4159473243.py:77: UserWarning: Converting to PeriodArray/Index representation will drop timezone information.\n",
      "  df['Date'] = pd.to_datetime(df['date']).dt.to_period('M').dt.start_time\n"
     ]
    },
    {
     "name": "stdout",
     "output_type": "stream",
     "text": [
      "15minute data with MA and RSI uploaded successfully for Bajaj Auto to s3://planwo-stockmarket-pred-rsi-ma/Historical data/Nifty50/Bajaj Auto/15minute.csv\n",
      "30minute data with MA and RSI uploaded successfully for Bajaj Auto to s3://planwo-stockmarket-pred-rsi-ma/Historical data/Nifty50/Bajaj Auto/30minute.csv\n",
      "60minute data with MA and RSI uploaded successfully for Bajaj Auto to s3://planwo-stockmarket-pred-rsi-ma/Historical data/Nifty50/Bajaj Auto/60minute.csv\n",
      "1day data with MA and RSI uploaded successfully for Bajaj Auto to s3://planwo-stockmarket-pred-rsi-ma/Historical data/Nifty50/Bajaj Auto/1day.csv\n",
      "1week data with MA and RSI uploaded successfully for Bajaj Auto to s3://planwo-stockmarket-pred-rsi-ma/Historical data/Nifty50/Bajaj Auto/1week.csv\n",
      "1month data with MA and RSI uploaded successfully for Bajaj Auto to s3://planwo-stockmarket-pred-rsi-ma/Historical data/Nifty50/Bajaj Auto/1month.csv\n",
      "Fetching 15minute data for Bajaj Finserv...\n",
      "Fetching 30minute data for Bajaj Finserv...\n",
      "Fetching 60minute data for Bajaj Finserv...\n"
     ]
    },
    {
     "name": "stderr",
     "output_type": "stream",
     "text": [
      "C:\\Users\\Alisia Phini\\AppData\\Local\\Temp\\ipykernel_11472\\4159473243.py:68: UserWarning: Converting to PeriodArray/Index representation will drop timezone information.\n",
      "  df['Date'] = pd.to_datetime(df['date']).dt.to_period('W').dt.start_time\n",
      "C:\\Users\\Alisia Phini\\AppData\\Local\\Temp\\ipykernel_11472\\4159473243.py:77: UserWarning: Converting to PeriodArray/Index representation will drop timezone information.\n",
      "  df['Date'] = pd.to_datetime(df['date']).dt.to_period('M').dt.start_time\n"
     ]
    },
    {
     "name": "stdout",
     "output_type": "stream",
     "text": [
      "15minute data with MA and RSI uploaded successfully for Bajaj Finserv to s3://planwo-stockmarket-pred-rsi-ma/Historical data/Nifty50/Bajaj Finserv/15minute.csv\n",
      "30minute data with MA and RSI uploaded successfully for Bajaj Finserv to s3://planwo-stockmarket-pred-rsi-ma/Historical data/Nifty50/Bajaj Finserv/30minute.csv\n",
      "60minute data with MA and RSI uploaded successfully for Bajaj Finserv to s3://planwo-stockmarket-pred-rsi-ma/Historical data/Nifty50/Bajaj Finserv/60minute.csv\n",
      "1day data with MA and RSI uploaded successfully for Bajaj Finserv to s3://planwo-stockmarket-pred-rsi-ma/Historical data/Nifty50/Bajaj Finserv/1day.csv\n",
      "1week data with MA and RSI uploaded successfully for Bajaj Finserv to s3://planwo-stockmarket-pred-rsi-ma/Historical data/Nifty50/Bajaj Finserv/1week.csv\n",
      "1month data with MA and RSI uploaded successfully for Bajaj Finserv to s3://planwo-stockmarket-pred-rsi-ma/Historical data/Nifty50/Bajaj Finserv/1month.csv\n"
     ]
    }
   ],
   "source": [
    "import pandas as pd\n",
    "from datetime import datetime, timedelta\n",
    "from io import StringIO\n",
    "import boto3\n",
    "\n",
    "aws_access_key = '###########################'\n",
    "aws_secret_key = '############################'\n",
    "bucket_name = 'planwo-stockmarket-pred-rsi-ma'\n",
    "\n",
    "session = boto3.Session(\n",
    "    aws_access_key_id=aws_access_key,\n",
    "    aws_secret_access_key=aws_secret_key\n",
    ")\n",
    "s3 = session.client('s3')\n",
    "\n",
    "end_date = datetime.now() - timedelta(days=1)\n",
    "start_date = end_date - timedelta(days=15*365) \n",
    "intervals = {\n",
    "    \"15minute\": 30,\n",
    "    \"30minute\": 200,\n",
    "    \"60minute\": 400\n",
    "}\n",
    "\n",
    "def fetch_historical_data_in_chunks(instrument_token, start_date, end_date, interval, max_days):\n",
    "    data = []\n",
    "    current_start_date = start_date\n",
    "    while current_start_date < end_date:\n",
    "        current_end_date = min(current_start_date + timedelta(days=max_days), end_date)\n",
    "        try:\n",
    "            chunk_data = kite.historical_data(\n",
    "                instrument_token,\n",
    "                current_start_date.strftime(\"%Y-%m-%d\"),\n",
    "                current_end_date.strftime(\"%Y-%m-%d\"),\n",
    "                interval\n",
    "            )\n",
    "            if chunk_data:\n",
    "                data.extend(chunk_data)\n",
    "            current_start_date = current_end_date + timedelta(days=1)\n",
    "        except Exception as e:\n",
    "            print(f\"Error fetching data from {current_start_date} to {current_end_date}: {e}\")\n",
    "            break\n",
    "    return data\n",
    "\n",
    "def calculate_rsi(data, window=14):\n",
    "    delta = data['close'].diff(1)  \n",
    "    gain = delta.where(delta > 0, 0)  \n",
    "    loss = -delta.where(delta < 0, 0)  \n",
    "\n",
    "    \n",
    "    avg_gain = gain.rolling(window=window, min_periods=1).mean()\n",
    "    avg_loss = loss.rolling(window=window, min_periods=1).mean()\n",
    "\n",
    "    rs = avg_gain / avg_loss\n",
    "    rsi = 100 - (100 / (1 + rs))\n",
    "    return rsi\n",
    "\n",
    "def aggregate_data(df, interval):\n",
    "    if interval == \"day\":\n",
    "        df['Date'] = pd.to_datetime(df['date']).dt.date\n",
    "        agg_data = df.groupby('Date').agg({\n",
    "            'open': 'first',\n",
    "            'high': 'max',\n",
    "            'low': 'min',\n",
    "            'close': 'last',\n",
    "            'volume': 'sum'\n",
    "        }).reset_index()\n",
    "    elif interval == \"week\":\n",
    "        df['Date'] = pd.to_datetime(df['date']).dt.to_period('W').dt.start_time\n",
    "        agg_data = df.groupby('Date').agg({\n",
    "            'open': 'first',\n",
    "            'high': 'max',\n",
    "            'low': 'min',\n",
    "            'close': 'last',\n",
    "            'volume': 'sum'\n",
    "        }).reset_index()\n",
    "    elif interval == \"month\":\n",
    "        df['Date'] = pd.to_datetime(df['date']).dt.to_period('M').dt.start_time\n",
    "        agg_data = df.groupby('Date').agg({\n",
    "            'open': 'first',\n",
    "            'high': 'max',\n",
    "            'low': 'min',\n",
    "            'close': 'last',\n",
    "            'volume': 'sum'\n",
    "        }).reset_index()\n",
    "    return agg_data\n",
    "\n",
    "for company, trading_symbol, instrument_token in zip(companies_with_symbols, trading_symbols_list, instrument_tokens_list):\n",
    "    if not trading_symbol or not instrument_token:\n",
    "        print(f\"Skipping company {company} due to missing data.\")\n",
    "        continue\n",
    "\n",
    "    historical_data_list = []\n",
    "    for interval, max_days in intervals.items():\n",
    "        print(f\"Fetching {interval} data for {company}...\")\n",
    "        data = fetch_historical_data_in_chunks(instrument_token, start_date, end_date, interval, max_days)\n",
    "        if data:\n",
    "            historical_data_df = pd.DataFrame(data)\n",
    "            historical_data_df['Company'] = company\n",
    "            historical_data_df['Trading Symbol'] = trading_symbol\n",
    "            historical_data_df['Interval'] = interval\n",
    "            historical_data_list.append(historical_data_df)\n",
    "\n",
    "    if not historical_data_list:\n",
    "        print(f\"No data fetched for {company}.\")\n",
    "        continue\n",
    "\n",
    "    all_historical_data = pd.concat(historical_data_list, ignore_index=True)\n",
    "\n",
    "    day_data = aggregate_data(all_historical_data, \"day\")\n",
    "    week_data = aggregate_data(all_historical_data, \"week\")\n",
    "    month_data = aggregate_data(all_historical_data, \"month\")\n",
    "\n",
    "    interval_data_dict = {\n",
    "        \"15minute\": [df for df in historical_data_list if df['Interval'].iloc[0] == \"15minute\"][0][['date', 'open', 'high', 'low', 'close', 'volume']],\n",
    "        \"30minute\": [df for df in historical_data_list if df['Interval'].iloc[0] == \"30minute\"][0][['date', 'open', 'high', 'low', 'close', 'volume']],\n",
    "        \"60minute\": [df for df in historical_data_list if df['Interval'].iloc[0] == \"60minute\"][0][['date', 'open', 'high', 'low', 'close', 'volume']],\n",
    "        \"1day\": day_data.rename(columns={\"Date\": \"date\"})[['date', 'open', 'high', 'low', 'close', 'volume']],\n",
    "        \"1week\": week_data.rename(columns={\"Date\": \"date\"})[['date', 'open', 'high', 'low', 'close', 'volume']],\n",
    "        \"1month\": month_data.rename(columns={\"Date\": \"date\"})[['date', 'open', 'high', 'low', 'close', 'volume']]\n",
    "    }\n",
    "\n",
    "    for interval, df in interval_data_dict.items():\n",
    "       \n",
    "        df = df.sort_values(by='date').reset_index(drop=True)\n",
    "\n",
    "   \n",
    "        df['Moving_Average'] = df['close'].rolling(window=20).mean()\n",
    "\n",
    "      \n",
    "        df['RSI'] = calculate_rsi(df, window=14)\n",
    "\n",
    "        csv_bfr = StringIO()\n",
    "        df.to_csv(csv_bfr, index=False)\n",
    "        csv_bfr.seek(0)\n",
    "        object_key = f\"Historical data/Nifty50/{company}/{interval}.csv\"\n",
    "        s3.put_object(Bucket=bucket_name, Key=object_key, Body=csv_bfr.getvalue())\n",
    "        print(f\"{interval} data with MA and RSI uploaded successfully for {company} to s3://{bucket_name}/{object_key}\")\n"
   ]
  },
  {
   "cell_type": "code",
   "execution_count": null,
   "id": "611c1257-b0c7-4f95-9030-d1b79664975f",
   "metadata": {},
   "outputs": [],
   "source": []
  },
  {
   "cell_type": "code",
   "execution_count": null,
   "id": "12e28618-4357-42b7-be54-f62334cad34b",
   "metadata": {},
   "outputs": [],
   "source": []
  }
 ],
 "metadata": {
  "kernelspec": {
   "display_name": "Python 3 (ipykernel)",
   "language": "python",
   "name": "python3"
  },
  "language_info": {
   "codemirror_mode": {
    "name": "ipython",
    "version": 3
   },
   "file_extension": ".py",
   "mimetype": "text/x-python",
   "name": "python",
   "nbconvert_exporter": "python",
   "pygments_lexer": "ipython3",
   "version": "3.11.1"
  }
 },
 "nbformat": 4,
 "nbformat_minor": 5
}
